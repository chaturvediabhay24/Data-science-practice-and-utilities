{
  "nbformat": 4,
  "nbformat_minor": 0,
  "metadata": {
    "colab": {
      "name": "Custom_layers_and_activations.ipynb",
      "provenance": []
    },
    "kernelspec": {
      "name": "python3",
      "display_name": "Python 3"
    }
  },
  "cells": [
    {
      "cell_type": "code",
      "metadata": {
        "id": "eq0LVKTeNesq"
      },
      "source": [
        "try:\r\n",
        "  # %tensorflow_version only exists in Colab.\r\n",
        "  %tensorflow_version 2.x\r\n",
        "except Exception:\r\n",
        "  pass\r\n",
        "\r\n",
        "import tensorflow as tf\r\n",
        "from tensorflow.keras import backend as K\r\n",
        "import numpy as np"
      ],
      "execution_count": null,
      "outputs": []
    },
    {
      "cell_type": "code",
      "metadata": {
        "colab": {
          "base_uri": "https://localhost:8080/"
        },
        "id": "tj1ImGu9OE6y",
        "outputId": "b72f1258-68f2-4425-a028-70d3ff7f7b38"
      },
      "source": [
        "mnist = tf.keras.datasets.mnist\r\n",
        "\r\n",
        "(x_train, y_train),(x_test, y_test) = mnist.load_data()\r\n",
        "x_train, x_test = x_train / 255.0, x_test / 255.0"
      ],
      "execution_count": null,
      "outputs": [
        {
          "output_type": "stream",
          "text": [
            "Downloading data from https://storage.googleapis.com/tensorflow/tf-keras-datasets/mnist.npz\n",
            "11493376/11490434 [==============================] - 0s 0us/step\n"
          ],
          "name": "stdout"
        }
      ]
    },
    {
      "cell_type": "code",
      "metadata": {
        "id": "87gI_1BcOUXP"
      },
      "source": [
        "model = tf.keras.models.Sequential([\r\n",
        "  tf.keras.layers.Flatten(input_shape=(28, 28)),\r\n",
        "  tf.keras.layers.Dense(128),\r\n",
        "  tf.keras.layers.Lambda(lambda x: tf.abs(x)), \r\n",
        "  tf.keras.layers.Dense(10, activation='softmax')\r\n",
        "])"
      ],
      "execution_count": null,
      "outputs": []
    },
    {
      "cell_type": "code",
      "metadata": {
        "colab": {
          "base_uri": "https://localhost:8080/"
        },
        "id": "M0QEbhySOWRZ",
        "outputId": "0c44b606-19cf-40fb-fb30-8159e2232e1b"
      },
      "source": [
        "model.compile(optimizer='adam',\r\n",
        "              loss='sparse_categorical_crossentropy',\r\n",
        "              metrics=['accuracy'])\r\n",
        "\r\n",
        "model.fit(x_train, y_train, epochs=5)\r\n",
        "model.evaluate(x_test, y_test)"
      ],
      "execution_count": null,
      "outputs": [
        {
          "output_type": "stream",
          "text": [
            "Epoch 1/5\n",
            "1875/1875 [==============================] - 4s 2ms/step - loss: 0.4009 - accuracy: 0.8902\n",
            "Epoch 2/5\n",
            "1875/1875 [==============================] - 3s 2ms/step - loss: 0.0959 - accuracy: 0.9710\n",
            "Epoch 3/5\n",
            "1875/1875 [==============================] - 3s 2ms/step - loss: 0.0616 - accuracy: 0.9809\n",
            "Epoch 4/5\n",
            "1875/1875 [==============================] - 3s 2ms/step - loss: 0.0414 - accuracy: 0.9871\n",
            "Epoch 5/5\n",
            "1875/1875 [==============================] - 3s 2ms/step - loss: 0.0344 - accuracy: 0.9890\n",
            "313/313 [==============================] - 0s 945us/step - loss: 0.0759 - accuracy: 0.9775\n"
          ],
          "name": "stdout"
        },
        {
          "output_type": "execute_result",
          "data": {
            "text/plain": [
              "[0.0758974477648735, 0.9775000214576721]"
            ]
          },
          "metadata": {
            "tags": []
          },
          "execution_count": 4
        }
      ]
    },
    {
      "cell_type": "markdown",
      "metadata": {
        "id": "QSKtr2CwObLS"
      },
      "source": [
        "# Functional Layer"
      ]
    },
    {
      "cell_type": "code",
      "metadata": {
        "colab": {
          "base_uri": "https://localhost:8080/"
        },
        "id": "ejAbjUKKOX19",
        "outputId": "f46021f8-22ce-46ea-ef07-defb25961be9"
      },
      "source": [
        "def my_relu(x):\r\n",
        "    return K.maximum(-0.1, x)\r\n",
        "\r\n",
        "model = tf.keras.models.Sequential([\r\n",
        "    tf.keras.layers.Flatten(input_shape=(28, 28)),\r\n",
        "    tf.keras.layers.Dense(128),\r\n",
        "    tf.keras.layers.Lambda(my_relu), \r\n",
        "    tf.keras.layers.Dense(10, activation='softmax')\r\n",
        "])\r\n",
        "\r\n",
        "model.compile(optimizer='adam',\r\n",
        "              loss='sparse_categorical_crossentropy',\r\n",
        "              metrics=['accuracy'])\r\n",
        "\r\n",
        "model.fit(x_train, y_train, epochs=5)\r\n",
        "model.evaluate(x_test, y_test)"
      ],
      "execution_count": null,
      "outputs": [
        {
          "output_type": "stream",
          "text": [
            "Epoch 1/5\n",
            "1875/1875 [==============================] - 3s 2ms/step - loss: 0.4321 - accuracy: 0.8791\n",
            "Epoch 2/5\n",
            "1875/1875 [==============================] - 3s 2ms/step - loss: 0.1282 - accuracy: 0.9624\n",
            "Epoch 3/5\n",
            "1875/1875 [==============================] - 3s 2ms/step - loss: 0.0835 - accuracy: 0.9746\n",
            "Epoch 4/5\n",
            "1875/1875 [==============================] - 3s 2ms/step - loss: 0.0569 - accuracy: 0.9831\n",
            "Epoch 5/5\n",
            "1875/1875 [==============================] - 3s 2ms/step - loss: 0.0438 - accuracy: 0.9867\n",
            "313/313 [==============================] - 0s 954us/step - loss: 0.0770 - accuracy: 0.9760\n"
          ],
          "name": "stdout"
        },
        {
          "output_type": "execute_result",
          "data": {
            "text/plain": [
              "[0.07700558751821518, 0.9760000109672546]"
            ]
          },
          "metadata": {
            "tags": []
          },
          "execution_count": 5
        }
      ]
    },
    {
      "cell_type": "markdown",
      "metadata": {
        "id": "Ipc1yos6Ovd9"
      },
      "source": [
        "# Custom layers with weights"
      ]
    },
    {
      "cell_type": "code",
      "metadata": {
        "id": "3At_1bZ8Oewh"
      },
      "source": [
        "# inherit from this base class\r\n",
        "from tensorflow.keras.layers import Layer\r\n",
        "\r\n",
        "class SimpleDense(Layer):\r\n",
        "\r\n",
        "    def __init__(self, units=32):\r\n",
        "        '''Initializes the instance attributes'''\r\n",
        "        super(SimpleDense, self).__init__()\r\n",
        "        self.units = units\r\n",
        "\r\n",
        "    def build(self, input_shape):\r\n",
        "        '''Create the state of the layer (weights)'''\r\n",
        "        # initialize the weights\r\n",
        "        w_init = tf.random_normal_initializer()\r\n",
        "        self.w = tf.Variable(name=\"kernel\",\r\n",
        "            initial_value=w_init(shape=(input_shape[-1], self.units),\r\n",
        "                                 dtype='float32'),\r\n",
        "            trainable=True)\r\n",
        "\r\n",
        "        # initialize the biases\r\n",
        "        b_init = tf.zeros_initializer()\r\n",
        "        self.b = tf.Variable(name=\"bias\",\r\n",
        "            initial_value=b_init(shape=(self.units,), dtype='float32'),\r\n",
        "            trainable=True)\r\n",
        "\r\n",
        "    def call(self, inputs):\r\n",
        "        '''Defines the computation from inputs to outputs'''\r\n",
        "        return tf.matmul(inputs, self.w) + self.b"
      ],
      "execution_count": null,
      "outputs": []
    },
    {
      "cell_type": "code",
      "metadata": {
        "colab": {
          "base_uri": "https://localhost:8080/"
        },
        "id": "QExL6q0sO0Gz",
        "outputId": "7f207d9e-8458-427e-d67a-db4bd64d590a"
      },
      "source": [
        "# declare an instance of the class\r\n",
        "my_dense = SimpleDense(units=1)\r\n",
        "\r\n",
        "# define an input and feed into the layer\r\n",
        "x = tf.ones((1, 1))\r\n",
        "y = my_dense(x)\r\n",
        "\r\n",
        "# parameters of the base Layer class like `variables` can be used\r\n",
        "print(my_dense.variables)"
      ],
      "execution_count": null,
      "outputs": [
        {
          "output_type": "stream",
          "text": [
            "[<tf.Variable 'simple_dense/kernel:0' shape=(1, 1) dtype=float32, numpy=array([[0.02287405]], dtype=float32)>, <tf.Variable 'simple_dense/bias:0' shape=(1,) dtype=float32, numpy=array([0.], dtype=float32)>]\n"
          ],
          "name": "stdout"
        }
      ]
    },
    {
      "cell_type": "code",
      "metadata": {
        "colab": {
          "base_uri": "https://localhost:8080/"
        },
        "id": "cGuo85A2O2PC",
        "outputId": "068e5e28-13ef-421a-8390-efd6e6509cb2"
      },
      "source": [
        "# define the dataset\r\n",
        "xs = np.array([-1.0,  0.0, 1.0, 2.0, 3.0, 4.0], dtype=float)\r\n",
        "ys = np.array([-3.0, -1.0, 1.0, 3.0, 5.0, 7.0], dtype=float)\r\n",
        "\r\n",
        "\r\n",
        "# use the Sequential API to build a model with our custom layer\r\n",
        "my_layer = SimpleDense(units=1)\r\n",
        "model = tf.keras.Sequential([my_layer])\r\n",
        "\r\n",
        "# configure and train the model\r\n",
        "model.compile(optimizer='sgd', loss='mean_squared_error')\r\n",
        "model.fit(xs, ys, epochs=500,verbose=0)\r\n",
        "\r\n",
        "# perform inference\r\n",
        "print(model.predict([10.0]))\r\n",
        "\r\n",
        "# see the updated state of the variables\r\n",
        "print(my_layer.variables)"
      ],
      "execution_count": null,
      "outputs": [
        {
          "output_type": "stream",
          "text": [
            "[[18.98135]]\n",
            "[<tf.Variable 'simple_dense_1/kernel:0' shape=(1, 1) dtype=float32, numpy=array([[1.9972969]], dtype=float32)>, <tf.Variable 'simple_dense_1/bias:0' shape=(1,) dtype=float32, numpy=array([-0.9916195], dtype=float32)>]\n"
          ],
          "name": "stdout"
        }
      ]
    },
    {
      "cell_type": "markdown",
      "metadata": {
        "id": "OTOyIuxTPhPy"
      },
      "source": [
        "# **Custom layers and activations**"
      ]
    },
    {
      "cell_type": "code",
      "metadata": {
        "id": "mmSk2xLKO4IE"
      },
      "source": [
        "class SimpleDense(Layer):\r\n",
        "\r\n",
        "    # add an activation parameter\r\n",
        "    def __init__(self, units=32, activation=None):\r\n",
        "        super(SimpleDense, self).__init__()\r\n",
        "        self.units = units\r\n",
        "        \r\n",
        "        # define the activation to get from the built-in activation layers in Keras\r\n",
        "        self.activation = tf.keras.activations.get(activation)\r\n",
        "\r\n",
        "\r\n",
        "    def build(self, input_shape):\r\n",
        "        w_init = tf.random_normal_initializer()\r\n",
        "        self.w = tf.Variable(name=\"kernel\",\r\n",
        "            initial_value=w_init(shape=(input_shape[-1], self.units),\r\n",
        "                                 dtype='float32'),\r\n",
        "            trainable=True)\r\n",
        "        b_init = tf.zeros_initializer()\r\n",
        "        self.b = tf.Variable(name=\"bias\",\r\n",
        "            initial_value=b_init(shape=(self.units,), dtype='float32'),\r\n",
        "            trainable=True)\r\n",
        "        #super().build(input_shape)\r\n",
        "\r\n",
        "\r\n",
        "    def call(self, inputs):\r\n",
        "        \r\n",
        "        # pass the computation to the activation layer\r\n",
        "        return self.activation(tf.matmul(inputs, self.w) + self.b)"
      ],
      "execution_count": null,
      "outputs": []
    },
    {
      "cell_type": "code",
      "metadata": {
        "colab": {
          "base_uri": "https://localhost:8080/"
        },
        "id": "rDHTeTFNPkvt",
        "outputId": "4aed524b-8af8-4168-87ba-1681a0029932"
      },
      "source": [
        "mnist = tf.keras.datasets.mnist\r\n",
        "\r\n",
        "(x_train, y_train),(x_test, y_test) = mnist.load_data()\r\n",
        "x_train, x_test = x_train / 255.0, x_test / 255.0\r\n",
        "\r\n",
        "model = tf.keras.models.Sequential([\r\n",
        "    tf.keras.layers.Flatten(input_shape=(28, 28)),\r\n",
        "    SimpleDense(128, activation='relu'),\r\n",
        "    tf.keras.layers.Dropout(0.2),\r\n",
        "    tf.keras.layers.Dense(10, activation='softmax')\r\n",
        "])\r\n",
        "\r\n",
        "model.compile(optimizer='adam',\r\n",
        "              loss='sparse_categorical_crossentropy',\r\n",
        "              metrics=['accuracy'])\r\n",
        "\r\n",
        "model.fit(x_train, y_train, epochs=5)\r\n",
        "model.evaluate(x_test, y_test)"
      ],
      "execution_count": null,
      "outputs": [
        {
          "output_type": "stream",
          "text": [
            "Epoch 1/5\n",
            "1875/1875 [==============================] - 3s 2ms/step - loss: 0.4709 - accuracy: 0.8625\n",
            "Epoch 2/5\n",
            "1875/1875 [==============================] - 3s 2ms/step - loss: 0.1528 - accuracy: 0.9552\n",
            "Epoch 3/5\n",
            "1875/1875 [==============================] - 3s 2ms/step - loss: 0.1133 - accuracy: 0.9660\n",
            "Epoch 4/5\n",
            "1875/1875 [==============================] - 3s 2ms/step - loss: 0.0868 - accuracy: 0.9732\n",
            "Epoch 5/5\n",
            "1875/1875 [==============================] - 3s 2ms/step - loss: 0.0735 - accuracy: 0.9776\n",
            "313/313 [==============================] - 0s 958us/step - loss: 0.0722 - accuracy: 0.9782\n"
          ],
          "name": "stdout"
        },
        {
          "output_type": "execute_result",
          "data": {
            "text/plain": [
              "[0.07218336313962936, 0.9782000184059143]"
            ]
          },
          "metadata": {
            "tags": []
          },
          "execution_count": 12
        }
      ]
    },
    {
      "cell_type": "code",
      "metadata": {
        "id": "UFGGOBJNPm8y"
      },
      "source": [
        ""
      ],
      "execution_count": null,
      "outputs": []
    }
  ]
}