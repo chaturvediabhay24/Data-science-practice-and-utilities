{
  "nbformat": 4,
  "nbformat_minor": 0,
  "metadata": {
    "colab": {
      "name": "Custom_loss_function.ipynb",
      "provenance": []
    },
    "kernelspec": {
      "name": "python3",
      "display_name": "Python 3"
    }
  },
  "cells": [
    {
      "cell_type": "code",
      "metadata": {
        "id": "BnanjPBAK32O"
      },
      "source": [
        "try:\r\n",
        "    # %tensorflow_version only exists in Colab.\r\n",
        "    %tensorflow_version 2.x\r\n",
        "except Exception:\r\n",
        "    pass\r\n",
        "\r\n",
        "import tensorflow as tf\r\n",
        "import numpy as np\r\n",
        "from tensorflow import keras"
      ],
      "execution_count": null,
      "outputs": []
    },
    {
      "cell_type": "code",
      "metadata": {
        "id": "XWrKtKHhLXWA"
      },
      "source": [
        "# inputs\r\n",
        "xs = np.array([-1.0,  0.0, 1.0, 2.0, 3.0, 4.0], dtype=float)\r\n",
        "\r\n",
        "# labels\r\n",
        "ys = np.array([-3.0, -1.0, 1.0, 3.0, 5.0, 7.0], dtype=float)"
      ],
      "execution_count": null,
      "outputs": []
    },
    {
      "cell_type": "markdown",
      "metadata": {
        "id": "_3taZVIkL3-I"
      },
      "source": [
        "# Custom loss function"
      ]
    },
    {
      "cell_type": "code",
      "metadata": {
        "id": "567P726_L8HC"
      },
      "source": [
        "def my_huber_loss(y_true, y_pred):\r\n",
        "    threshold = 1\r\n",
        "    error = y_true - y_pred\r\n",
        "    is_small_error = tf.abs(error) <= threshold\r\n",
        "    small_error_loss = tf.square(error) / 2\r\n",
        "    big_error_loss = threshold * (tf.abs(error) - (0.5 * threshold))\r\n",
        "    return tf.where(is_small_error, small_error_loss, big_error_loss)"
      ],
      "execution_count": null,
      "outputs": []
    },
    {
      "cell_type": "code",
      "metadata": {
        "id": "L6QBb5E-L-sW",
        "colab": {
          "base_uri": "https://localhost:8080/"
        },
        "outputId": "04cdf805-4cc7-4ea9-e25a-941c4db70890"
      },
      "source": [
        "model = tf.keras.Sequential([keras.layers.Dense(units=1, input_shape=[1])])\r\n",
        "model.compile(optimizer='sgd', loss=my_huber_loss)\r\n",
        "model.fit(xs, ys, epochs=500,verbose=0)\r\n",
        "print(model.predict([10.0]))"
      ],
      "execution_count": null,
      "outputs": [
        {
          "output_type": "stream",
          "text": [
            "[[18.37114]]\n"
          ],
          "name": "stdout"
        }
      ]
    },
    {
      "cell_type": "markdown",
      "metadata": {
        "id": "Mw-F7l-WLguL"
      },
      "source": [
        "\r\n",
        "# Custom loss with hyperparameter"
      ]
    },
    {
      "cell_type": "code",
      "metadata": {
        "id": "8EgbSdR5LZS1"
      },
      "source": [
        "# wrapper function that accepts the hyperparameter\r\n",
        "def my_huber_loss_with_threshold(threshold):\r\n",
        "  \r\n",
        "    # function that accepts the ground truth and predictions\r\n",
        "    def my_huber_loss(y_true, y_pred):\r\n",
        "        error = y_true - y_pred\r\n",
        "        is_small_error = tf.abs(error) <= threshold\r\n",
        "        small_error_loss = tf.square(error) / 2\r\n",
        "        big_error_loss = threshold * (tf.abs(error) - (0.5 * threshold))\r\n",
        "        \r\n",
        "        return tf.where(is_small_error, small_error_loss, big_error_loss) \r\n",
        "\r\n",
        "    # return the inner function tuned by the hyperparameter\r\n",
        "    return my_huber_loss"
      ],
      "execution_count": null,
      "outputs": []
    },
    {
      "cell_type": "code",
      "metadata": {
        "colab": {
          "base_uri": "https://localhost:8080/"
        },
        "id": "WPFMxJJ4Lb5Q",
        "outputId": "ea97e84a-e0ca-4a80-9948-8fd735275f32"
      },
      "source": [
        "\r\n",
        "\r\n",
        "model = tf.keras.Sequential([keras.layers.Dense(units=1, input_shape=[1])])\r\n",
        "model.compile(optimizer='sgd', loss=my_huber_loss_with_threshold(threshold=1.2))\r\n",
        "model.fit(xs, ys, epochs=500,verbose=0)\r\n",
        "print(model.predict([10.0]))\r\n",
        "\r\n"
      ],
      "execution_count": null,
      "outputs": [
        {
          "output_type": "stream",
          "text": [
            "[[18.589525]]\n"
          ],
          "name": "stdout"
        }
      ]
    },
    {
      "cell_type": "markdown",
      "metadata": {
        "id": "ZzitEQP3Lkh6"
      },
      "source": [
        "\r\n",
        "# Implement Custom Loss as a Class"
      ]
    },
    {
      "cell_type": "code",
      "metadata": {
        "id": "WZDFn3JLLdfL"
      },
      "source": [
        "\r\n",
        "\r\n",
        "from tensorflow.keras.losses import Loss\r\n",
        "\r\n",
        "class MyHuberLoss(Loss):\r\n",
        "  \r\n",
        "    # class attribute\r\n",
        "    threshold = 1\r\n",
        "  \r\n",
        "    # initialize instance attributes\r\n",
        "    def __init__(self, threshold):\r\n",
        "        super().__init__()\r\n",
        "        self.threshold = threshold\r\n",
        "\r\n",
        "    # compute loss\r\n",
        "    def call(self, y_true, y_pred):\r\n",
        "        error = y_true - y_pred\r\n",
        "        is_small_error = tf.abs(error) <= self.threshold\r\n",
        "        small_error_loss = tf.square(error) / 2\r\n",
        "        big_error_loss = self.threshold * (tf.abs(error) - (0.5 * self.threshold))\r\n",
        "        return tf.where(is_small_error, small_error_loss, big_error_loss)\r\n",
        "\r\n"
      ],
      "execution_count": null,
      "outputs": []
    },
    {
      "cell_type": "code",
      "metadata": {
        "colab": {
          "base_uri": "https://localhost:8080/"
        },
        "id": "pParXXSDLoba",
        "outputId": "68d81cc4-5323-4c0b-8177-63c3387a9818"
      },
      "source": [
        "model = tf.keras.Sequential([keras.layers.Dense(units=1, input_shape=[1])])\r\n",
        "model.compile(optimizer='sgd', loss=MyHuberLoss(threshold=1.02))\r\n",
        "model.fit(xs, ys, epochs=500,verbose=0)\r\n",
        "print(model.predict([10.0]))"
      ],
      "execution_count": null,
      "outputs": [
        {
          "output_type": "stream",
          "text": [
            "[[18.791931]]\n"
          ],
          "name": "stdout"
        }
      ]
    },
    {
      "cell_type": "code",
      "metadata": {
        "id": "hk1MAiHhLq1Y"
      },
      "source": [
        ""
      ],
      "execution_count": null,
      "outputs": []
    }
  ]
}