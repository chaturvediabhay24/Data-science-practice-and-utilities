{
  "nbformat": 4,
  "nbformat_minor": 0,
  "metadata": {
    "colab": {
      "name": "Functional Link Neural Network.ipynb",
      "provenance": []
    },
    "kernelspec": {
      "name": "python3",
      "display_name": "Python 3"
    }
  },
  "cells": [
    {
      "cell_type": "markdown",
      "metadata": {
        "id": "aq8rLz5Pchc1"
      },
      "source": [
        "# **Import Libraries**"
      ]
    },
    {
      "cell_type": "code",
      "metadata": {
        "id": "C3bU84fNAzkk"
      },
      "source": [
        "import numpy as np\r\n",
        "import pandas as pd"
      ],
      "execution_count": null,
      "outputs": []
    },
    {
      "cell_type": "markdown",
      "metadata": {
        "id": "mtP1dlwTckvu"
      },
      "source": [
        "# Split the dataset into train and test"
      ]
    },
    {
      "cell_type": "code",
      "metadata": {
        "id": "O6QwONH2E7sx"
      },
      "source": [
        "data=pd.read_csv(\"Data.csv\")\r\n",
        "data.head()\r\n",
        "train_data, test_data=data[:7000], data[7000:]"
      ],
      "execution_count": null,
      "outputs": []
    },
    {
      "cell_type": "markdown",
      "metadata": {
        "id": "MbRTidJcctMQ"
      },
      "source": [
        "# Creating the class for FLANN"
      ]
    },
    {
      "cell_type": "code",
      "metadata": {
        "id": "HJx4B0umpR5e"
      },
      "source": [
        "class FLANN:\r\n",
        "  def __init__(self, functions=[lambda x:x, lambda x:np.sin(np.pi*x), lambda x:np.cos(np.pi*x)]):\r\n",
        "    \"\"\"\r\n",
        "    This function initialize weights, bias and functions.\r\n",
        "\r\n",
        "    Parameters\r\n",
        "    ----------\r\n",
        "        functions : list\r\n",
        "            List of lambda functions needed to perform functional link.'\r\n",
        "\r\n",
        "    \"\"\"\r\n",
        "    self.Weights=np.linspace(0,1,len(functions))\r\n",
        "    self.Bias=1\r\n",
        "    self.f=functions\r\n",
        "\r\n",
        "  def error_(self, real, predicted):\r\n",
        "    \"\"\"\r\n",
        "    returs the error value of the model.\r\n",
        "\r\n",
        "    Parameters\r\n",
        "    ----------\r\n",
        "        real, predicted : float\r\n",
        "             The actual and predicted outputs respectively.\r\n",
        "\r\n",
        "    Returns\r\n",
        "    ----------\r\n",
        "        error : float\r\n",
        "             returns the difference between the actual and predicted output values.\r\n",
        "             \r\n",
        "    \"\"\"\r\n",
        "    return (real-predicted)\r\n",
        "\r\n",
        "  def forward_propogation(self, x):\r\n",
        "    \"\"\"\r\n",
        "    Performs forward propogation.\r\n",
        "\r\n",
        "    Parameters\r\n",
        "    ----------\r\n",
        "        x : float\r\n",
        "             The input value.\r\n",
        "\r\n",
        "    \"\"\"\r\n",
        "    y=[]\r\n",
        "    for ind, val in enumerate(self.Weights):\r\n",
        "      y.append(self.f[ind](x))\r\n",
        "      y[ind]*=val\r\n",
        "    return sum(y)+self.Bias\r\n",
        "\r\n",
        "  def back_propogation(self, error, alpha, x):\r\n",
        "    \"\"\"\r\n",
        "    Performs back propogation to update the weights.\r\n",
        "\r\n",
        "    Parameters\r\n",
        "    ----------\r\n",
        "        x : float\r\n",
        "             The input value.\r\n",
        "\r\n",
        "        error : float\r\n",
        "             Error value received during forward propogation.\r\n",
        "\r\n",
        "        alpha : float\r\n",
        "             The learning rate.\r\n",
        "\r\n",
        "    \"\"\"\r\n",
        "    for ind, wgt in enumerate(self.Weights):\r\n",
        "      self.Weights[ind]+=alpha*error*(self.f[ind](x))\r\n",
        "\r\n",
        "  def fit(self, train_input, train_output, test_input, test_output, epochs, alpha=0.1, show=50):\r\n",
        "    \"\"\"\r\n",
        "    Performs all the steps of training. Like: forward propogation, error calculation and back propogation.\r\n",
        "\r\n",
        "    Parameters\r\n",
        "    ----------\r\n",
        "        train_input, train_output, test_input, test_output : List\r\n",
        "             Train, Test, Input , Output data respectively.\r\n",
        "\r\n",
        "        epochs : float\r\n",
        "             No of steps of trsaining the model\r\n",
        "\r\n",
        "        alpha : float\r\n",
        "             The learning rate.\r\n",
        "        \r\n",
        "        show : integer\r\n",
        "             After how many values the result would be printed in the console.\r\n",
        "\r\n",
        "    \"\"\"\r\n",
        "    for _ in range(epochs):\r\n",
        "      error=0\r\n",
        "      for ind, input in enumerate(train_input):\r\n",
        "        prediction=self.forward_propogation(input)\r\n",
        "        error=self.error_(train_output[ind], prediction)\r\n",
        "        self.back_propogation(error, alpha=alpha, x=input)\r\n",
        "      if((_+1)%show==0):\r\n",
        "        print(\"Epoch {}: \\terror: {}\".format(_+1, error), end=\"\\t\")\r\n",
        "        self.evaluate( test_input, test_output)\r\n",
        "\r\n",
        "  def evaluate(self, test_input, test_output):\r\n",
        "    \"\"\"\r\n",
        "    Performs computation on validation data.\r\n",
        "\r\n",
        "    Parameters\r\n",
        "    ----------\r\n",
        "\r\n",
        "        test_input, test_output : List\r\n",
        "             Test Input and Output data respectively.\r\n",
        "\r\n",
        "    \"\"\"\r\n",
        "    pred=[]\r\n",
        "    for inp in test_input:\r\n",
        "      pred.append(self.forward_propogation(inp))\r\n",
        "\r\n",
        "    print(\"Error on validation set {}\".format(sum(test_output-pred)/len(test_output)))"
      ],
      "execution_count": null,
      "outputs": []
    },
    {
      "cell_type": "markdown",
      "metadata": {
        "id": "xLf0zs4ggRpw"
      },
      "source": [
        "# Training the model"
      ]
    },
    {
      "cell_type": "code",
      "metadata": {
        "colab": {
          "base_uri": "https://localhost:8080/"
        },
        "id": "-wVkfSjQA_F7",
        "outputId": "350d89b1-32e6-4acf-b88b-03a211e6d2e5"
      },
      "source": [
        "p=FLANN()\r\n",
        "p.fit(train_data[\"Input\"], train_data[\"Output\"],test_data[\"Input\"], test_data[\"Output\"], epochs=100, alpha=0.01, show=1)"
      ],
      "execution_count": null,
      "outputs": [
        {
          "output_type": "stream",
          "text": [
            "Epoch 1: \terror: 0.15374970749604971\tError on validation set 0.03634921096402375\n",
            "Epoch 2: \terror: 0.1457410789678244\tError on validation set 0.036155387120177476\n",
            "Epoch 3: \terror: 0.13828430881882448\tError on validation set 0.03597491928503384\n",
            "Epoch 4: \terror: 0.13134136960531834\tError on validation set 0.035806887123070806\n",
            "Epoch 5: \terror: 0.12487685427774022\tError on validation set 0.03565043371722474\n",
            "Epoch 6: \terror: 0.11885779561463135\tError on validation set 0.03550476119885153\n",
            "Epoch 7: \terror: 0.11325349809902537\tError on validation set 0.035369126678820306\n",
            "Epoch 8: \terror: 0.10803538137988879\tError on validation set 0.035242838458985785\n",
            "Epoch 9: \terror: 0.10317683452032063\tError on validation set 0.0351252525047227\n",
            "Epoch 10: \terror: 0.09865308028921098\tError on validation set 0.03501576916052707\n",
            "Epoch 11: \terror: 0.09444104880428723\tError on validation set 0.034913830091941954\n",
            "Epoch 12: \terror: 0.09051925988215938\tError on validation set 0.034818915438207844\n",
            "Epoch 13: \terror: 0.08686771349539203\tError on validation set 0.034730541161117255\n",
            "Epoch 14: \terror: 0.08346778777795229\tError on validation set 0.034648256576556416\n",
            "Epoch 15: \terror: 0.08030214405889781\tError on validation set 0.034571642056140994\n",
            "Epoch 16: \terror: 0.07735463843999933\tError on validation set 0.034500306887228924\n",
            "Epoch 17: \terror: 0.07461023946637259\tError on validation set 0.034433887280395745\n",
            "Epoch 18: \terror: 0.07205495147026288\tError on validation set 0.034372044514209776\n",
            "Epoch 19: \terror: 0.06967574319704269\tError on validation set 0.03431446320784744\n",
            "Epoch 20: \terror: 0.06746048134946588\tError on validation set 0.03426084971273874\n",
            "Epoch 21: \terror: 0.06539786871123383\tError on validation set 0.034210930615042996\n",
            "Epoch 22: \terror: 0.06347738653435044\tError on validation set 0.03416445134131339\n",
            "Epoch 23: \terror: 0.061689240896456096\tError on validation set 0.03412117486024395\n",
            "Epoch 24: \terror: 0.060024312754549836\tError on validation set 0.03408088047387615\n",
            "Epoch 25: \terror: 0.058474111440425844\tError on validation set 0.034043362692100884\n",
            "Epoch 26: \terror: 0.05703073136063194\tError on validation set 0.03400843018471709\n",
            "Epoch 27: \terror: 0.05568681168016096\tError on validation set 0.03397590480569959\n",
            "Epoch 28: \terror: 0.05443549878424185\tError on validation set 0.03394562068470611\n",
            "Epoch 29: \terror: 0.05327041132682507\tError on validation set 0.03391742338118293\n",
            "Epoch 30: \terror: 0.05218560768749783\tError on validation set 0.033891169096763096\n",
            "Epoch 31: \terror: 0.05117555567088222\tError on validation set 0.033866723941933505\n",
            "Epoch 32: \terror: 0.05023510429398406\tError on validation set 0.03384396325323642\n",
            "Epoch 33: \terror: 0.04935945751761922\tError on validation set 0.03382277095752075\n",
            "Epoch 34: \terror: 0.04854414978795693\tError on validation set 0.03380303898000107\n",
            "Epoch 35: \terror: 0.04778502326343656\tError on validation set 0.03378466669310715\n",
            "Epoch 36: \terror: 0.047078206610945444\tError on validation set 0.03376756040331009\n",
            "Epoch 37: \terror: 0.04642009526310226\tError on validation set 0.03375163287331308\n",
            "Epoch 38: \terror: 0.045807333035956396\tError on validation set 0.03373680287716446\n",
            "Epoch 39: \terror: 0.04523679501340902\tError on validation set 0.033722994786028734\n",
            "Epoch 40: \terror: 0.04470557161100021\tError on validation set 0.03371013818250009\n",
            "Epoch 41: \terror: 0.04421095373784274\tError on validation set 0.03369816750149346\n",
            "Epoch 42: \terror: 0.043750418981021694\tError on validation set 0.033687021695881794\n",
            "Epoch 43: \terror: 0.043321618741986534\tError on validation set 0.0336766439251713\n",
            "Epoch 44: \terror: 0.04292236625936133\tError on validation set 0.0336669812656315\n",
            "Epoch 45: \terror: 0.04255062545706739\tError on validation set 0.03365798444039965\n",
            "Epoch 46: \terror: 0.042204500560909325\tError on validation set 0.03364960756818149\n",
            "Epoch 47: \terror: 0.04188222643064955\tError on validation set 0.03364180792926949\n",
            "Epoch 48: \terror: 0.041582159558295445\tError on validation set 0.03363454574768551\n",
            "Epoch 49: \terror: 0.04130276968665943\tError on validation set 0.03362778398833303\n",
            "Epoch 50: \terror: 0.04104263200548186\tError on validation set 0.033621488168129\n",
            "Epoch 51: \terror: 0.04080041988529248\tError on validation set 0.03361562618014979\n",
            "Epoch 52: \terror: 0.040574898111970764\tError on validation set 0.033610168129895444\n",
            "Epoch 53: \terror: 0.04036491658750252\tError on validation set 0.03360508618283461\n",
            "Epoch 54: \terror: 0.04016940446479929\tError on validation set 0.03360035442245797\n",
            "Epoch 55: \terror: 0.039987364686677934\tError on validation set 0.03359594871810985\n",
            "Epoch 56: \terror: 0.039817868901145276\tError on validation set 0.033591846601929744\n",
            "Epoch 57: \terror: 0.03966005272706645\tError on validation set 0.033588027154271026\n",
            "Epoch 58: \terror: 0.03951311134606249\tError on validation set 0.0335844708970184\n",
            "Epoch 59: \terror: 0.03937629539815417\tError on validation set 0.03358115969425388\n",
            "Epoch 60: \terror: 0.039248907160246704\tError on validation set 0.03357807665976878\n",
            "Epoch 61: \terror: 0.039130296987928595\tError on validation set 0.03357520607094844\n",
            "Epoch 62: \terror: 0.039019860002471346\tError on validation set 0.03357253328859272\n",
            "Epoch 63: \terror: 0.03891703300611185\tError on validation set 0.03357004468225827\n",
            "Epoch 64: \terror: 0.03882129160991003\tError on validation set 0.0335677275607485\n",
            "Epoch 65: \terror: 0.0387321475595017\tError on validation set 0.033565570107391085\n",
            "Epoch 66: \terror: 0.038649146245143706\tError on validation set 0.03356356131977696\n",
            "Epoch 67: \terror: 0.038571864383329185\tError on validation set 0.03356169095365073\n",
            "Epoch 68: \terror: 0.038499907858163374\tError on validation set 0.03355994947066801\n",
            "Epoch 69: \terror: 0.03843290971147925\tError on validation set 0.03355832798975214\n",
            "Epoch 70: \terror: 0.03837052827145247\tError on validation set 0.033556818241803614\n",
            "Epoch 71: \terror: 0.038312445410172744\tError on validation set 0.03355541252752986\n",
            "Epoch 72: \terror: 0.03825836492127975\tError on validation set 0.033554103678181076\n",
            "Epoch 73: \terror: 0.03820801100939662\tError on validation set 0.033552885018991264\n",
            "Epoch 74: \terror: 0.0381611268836444\tError on validation set 0.033551750335139026\n",
            "Epoch 75: \terror: 0.038117473448085915\tError on validation set 0.03355069384005418\n",
            "Epoch 76: \terror: 0.03807682808239965\tError on validation set 0.03354971014590679\n",
            "Epoch 77: \terror: 0.03803898350658157\tError on validation set 0.033548794236131683\n",
            "Epoch 78: \terror: 0.03800374672386907\tError on validation set 0.033547941439845026\n",
            "Epoch 79: \terror: 0.03797093803652021\tError on validation set 0.033547147408024176\n",
            "Epoch 80: \terror: 0.037940390129399856\tError on validation set 0.03354640809132856\n",
            "Epoch 81: \terror: 0.03791194721671867\tError on validation set 0.03354571971944978\n",
            "Epoch 82: \terror: 0.037885464247569556\tError on validation set 0.033545078781883585\n",
            "Epoch 83: \terror: 0.037860806166211305\tError on validation set 0.03354448201002766\n",
            "Epoch 84: \terror: 0.03783784722332323\tError on validation set 0.03354392636051216\n",
            "Epoch 85: \terror: 0.03781647033471089\tError on validation set 0.033543408999680085\n",
            "Epoch 86: \terror: 0.03779656648421814\tError on validation set 0.03354292728913541\n",
            "Epoch 87: \terror: 0.03777803416776959\tError on validation set 0.03354247877228936\n",
            "Epoch 88: \terror: 0.037760778875729636\tError on validation set 0.033542061161830956\n",
            "Epoch 89: \terror: 0.037744712610933415\tError on validation set 0.033541672328064105\n",
            "Epoch 90: \terror: 0.0377297534399187\tError on validation set 0.033541310288044704\n",
            "Epoch 91: \terror: 0.03771582507509619\tError on validation set 0.03354097319547027\n",
            "Epoch 92: \terror: 0.03770285648569634\tError on validation set 0.03354065933126266\n",
            "Epoch 93: \terror: 0.03769078153553966\tError on validation set 0.03354036709480239\n",
            "Epoch 94: \terror: 0.03767953864575238\tError on validation set 0.0335400949957648\n",
            "Epoch 95: \terror: 0.037669070480740946\tError on validation set 0.033539841646521004\n",
            "Epoch 96: \terror: 0.03765932365578961\tError on validation set 0.03353960575506093\n",
            "Epoch 97: \terror: 0.0376502484648128\tError on validation set 0.03353938611840373\n",
            "Epoch 98: \terror: 0.03764179862687404\tError on validation set 0.03353918161646401\n",
            "Epoch 99: \terror: 0.03763393105016201\tError on validation set 0.033538991206338895\n",
            "Epoch 100: \terror: 0.03762660561223531\tError on validation set 0.0335388139169899\n"
          ],
          "name": "stdout"
        }
      ]
    },
    {
      "cell_type": "code",
      "metadata": {
        "colab": {
          "base_uri": "https://localhost:8080/"
        },
        "id": "AwYJv39pG_dV",
        "outputId": "873c6c37-3f3f-4bca-b03e-87d4c00ed7e9"
      },
      "source": [
        "p.forward_propogation(-0.471958)#-0.643579"
      ],
      "execution_count": null,
      "outputs": [
        {
          "output_type": "execute_result",
          "data": {
            "text/plain": [
              "-0.6828703261253708"
            ]
          },
          "metadata": {
            "tags": []
          },
          "execution_count": 163
        }
      ]
    },
    {
      "cell_type": "markdown",
      "metadata": {
        "id": "1_pkPDWAl9Mf"
      },
      "source": [
        "# **If you want to use other function you can pass it explicitly as a lambda functions**"
      ]
    },
    {
      "cell_type": "code",
      "metadata": {
        "colab": {
          "base_uri": "https://localhost:8080/"
        },
        "id": "a9Lt25ZTUU7S",
        "outputId": "bd67ec27-5689-40dd-dc7e-821cb00cf966"
      },
      "source": [
        "functions=[lambda x:x, lambda x:x*x, lambda x:x**3, lambda x:x**4, lambda x:x**5]\r\n",
        "p=FLANN(functions)\r\n",
        "p.fit(train_data[\"Input\"], train_data[\"Output\"],test_data[\"Input\"], test_data[\"Output\"], epochs=100, alpha=0.01, show=1)"
      ],
      "execution_count": null,
      "outputs": [
        {
          "output_type": "stream",
          "text": [
            "Epoch 1: \terror: 0.17158003415981626\tError on validation set 0.0726374842006868\n",
            "Epoch 2: \terror: 0.16514378371591693\tError on validation set 0.06362606831939989\n",
            "Epoch 3: \terror: 0.16141801363637454\tError on validation set 0.059989765353887815\n",
            "Epoch 4: \terror: 0.1590356642429418\tError on validation set 0.05849733835079217\n",
            "Epoch 5: \terror: 0.15721120269659977\tError on validation set 0.05786138087840794\n",
            "Epoch 6: \terror: 0.15562985018590686\tError on validation set 0.05756778869025383\n",
            "Epoch 7: \terror: 0.15416538964894438\tError on validation set 0.05741125577892538\n",
            "Epoch 8: \terror: 0.1527669173529046\tError on validation set 0.05730978957761086\n",
            "Epoch 9: \terror: 0.1514136174323233\tError on validation set 0.05723064080273033\n",
            "Epoch 10: \terror: 0.15009670154833782\tError on validation set 0.05716072480412045\n",
            "Epoch 11: \terror: 0.1488121964839394\tError on validation set 0.05709480983476515\n",
            "Epoch 12: \terror: 0.1475580636842601\tError on validation set 0.057030800234843665\n",
            "Epoch 13: \terror: 0.1463330486926535\tError on validation set 0.05696785284807673\n",
            "Epoch 14: \terror: 0.14513622139862398\tError on validation set 0.05690562484084139\n",
            "Epoch 15: \terror: 0.14396679215713515\tError on validation set 0.05684397332765514\n",
            "Epoch 16: \terror: 0.14282403807971628\tError on validation set 0.05678283541788089\n",
            "Epoch 17: \terror: 0.1417072733279225\tError on validation set 0.056722180310642946\n",
            "Epoch 18: \terror: 0.1406158369853176\tError on validation set 0.056661990161056185\n",
            "Epoch 19: \terror: 0.1395490879559142\tError on validation set 0.056602252435883085\n",
            "Epoch 20: \terror: 0.13850640267509817\tError on validation set 0.056542956857381456\n",
            "Epoch 21: \terror: 0.13748717395011067\tError on validation set 0.05648409417946649\n",
            "Epoch 22: \terror: 0.13649081025784626\tError on validation set 0.05642565569565272\n",
            "Epoch 23: \terror: 0.13551673523139302\tError on validation set 0.05636763303931446\n",
            "Epoch 24: \terror: 0.1345643872278816\tError on validation set 0.05631001810075343\n",
            "Epoch 25: \terror: 0.13363321893460395\tError on validation set 0.05625280299099932\n",
            "Epoch 26: \terror: 0.13272269699606326\tError on validation set 0.0561959800243442\n",
            "Epoch 27: \terror: 0.1318323016548873\tError on validation set 0.05613954170843982\n",
            "Epoch 28: \terror: 0.1309615264036365\tError on validation set 0.05608348073748991\n",
            "Epoch 29: \terror: 0.13010987764619747\tError on validation set 0.05602778998674475\n",
            "Epoch 30: \terror: 0.1292768743680937\tError on validation set 0.05597246250759612\n",
            "Epoch 31: \terror: 0.12846204781531895\tError on validation set 0.05591749152297366\n",
            "Epoch 32: \terror: 0.12766494118141702\tError on validation set 0.05586287042293165\n",
            "Epoch 33: \terror: 0.12688510930256158\tError on validation set 0.055808592760380436\n",
            "Epoch 34: \terror: 0.12612211836042753\tError on validation set 0.05575465224693465\n",
            "Epoch 35: \terror: 0.1253755455926479\tError on validation set 0.05570104274887186\n",
            "Epoch 36: \terror: 0.12464497901066394\tError on validation set 0.055647758283199664\n",
            "Epoch 37: \terror: 0.12393001712477521\tError on validation set 0.05559479301382107\n",
            "Epoch 38: \terror: 0.12323026867620811\tError on validation set 0.0555421412477978\n",
            "Epoch 39: \terror: 0.12254535237602542\tError on validation set 0.05548979743171156\n",
            "Epoch 40: \terror: 0.12187489665069125\tError on validation set 0.055437756148114865\n",
            "Epoch 41: \terror: 0.12121853939414483\tError on validation set 0.05538601211207554\n",
            "Epoch 42: \terror: 0.1205759277261871\tError on validation set 0.055334560167806794\n",
            "Epoch 43: \terror: 0.11994671775704276\tError on validation set 0.05528339528538581\n",
            "Epoch 44: \terror: 0.1193305743579288\tError on validation set 0.055232512557552925\n",
            "Epoch 45: \terror: 0.11872717093748376\tError on validation set 0.05518190719659748\n",
            "Epoch 46: \terror: 0.11813618922389253\tError on validation set 0.055131574531315765\n",
            "Epoch 47: \terror: 0.11755731905258011\tError on validation set 0.05508151000405346\n",
            "Epoch 48: \terror: 0.11699025815932716\tError on validation set 0.05503170916782009\n",
            "Epoch 49: \terror: 0.11643471197865703\tError on validation set 0.054982167683478196\n",
            "Epoch 50: \terror: 0.11589039344737344\tError on validation set 0.05493288131700433\n",
            "Epoch 51: \terror: 0.1153570228131114\tError on validation set 0.05488384593681622\n",
            "Epoch 52: \terror: 0.11483432744777937\tError on validation set 0.054835057511176094\n",
            "Epoch 53: \terror: 0.11432204166575337\tError on validation set 0.054786512105652815\n",
            "Epoch 54: \terror: 0.11381990654671982\tError on validation set 0.05473820588065067\n",
            "Epoch 55: \terror: 0.11332766976303756\tError on validation set 0.05469013508900449\n",
            "Epoch 56: \terror: 0.11284508541150139\tError on validation set 0.05464229607363057\n",
            "Epoch 57: \terror: 0.11237191384940977\tError on validation set 0.05459468526524435\n",
            "Epoch 58: \terror: 0.11190792153480487\tError on validation set 0.054547299180129176\n",
            "Epoch 59: \terror: 0.11145288087080092\tError on validation set 0.054500134417966584\n",
            "Epoch 60: \terror: 0.11100657005387725\tError on validation set 0.054453187659720355\n",
            "Epoch 61: \terror: 0.11056877292604637\tError on validation set 0.05440645566557663\n",
            "Epoch 62: \terror: 0.11013927883080078\tError on validation set 0.05435993527293201\n",
            "Epoch 63: \terror: 0.10971788247272572\tError on validation set 0.05431362339443693\n",
            "Epoch 64: \terror: 0.10930438378070216\tError on validation set 0.05426751701608873\n",
            "Epoch 65: \terror: 0.10889858777460378\tError on validation set 0.05422161319537175\n",
            "Epoch 66: \terror: 0.10850030443538776\tError on validation set 0.0541759090594448\n",
            "Epoch 67: \terror: 0.10810934857850647\tError on validation set 0.05413040180337721\n",
            "Epoch 68: \terror: 0.10772553973055103\tError on validation set 0.054085088688425695\n",
            "Epoch 69: \terror: 0.10734870200904158\tError on validation set 0.05403996704036138\n",
            "Epoch 70: \terror: 0.10697866400528654\tError on validation set 0.053995034247832197\n",
            "Epoch 71: \terror: 0.10661525867022674\tError on validation set 0.05395028776077344\n",
            "Epoch 72: \terror: 0.1062583232032029\tError on validation set 0.053905725088854536\n",
            "Epoch 73: \terror: 0.10590769894355322\tError on validation set 0.05386134379996743\n",
            "Epoch 74: \terror: 0.10556323126498175\tError on validation set 0.05381714151875371\n",
            "Epoch 75: \terror: 0.10522476947262312\tError on validation set 0.05377311592516788\n",
            "Epoch 76: \terror: 0.1048921667027304\tError on validation set 0.05372926475307852\n",
            "Epoch 77: \terror: 0.10456527982493015\tError on validation set 0.05368558578890408\n",
            "Epoch 78: \terror: 0.10424396934696752\tError on validation set 0.05364207687028566\n",
            "Epoch 79: \terror: 0.10392809932188084\tError on validation set 0.05359873588479055\n",
            "Epoch 80: \terror: 0.10361753725754981\tError on validation set 0.05355556076865088\n",
            "Epoch 81: \terror: 0.10331215402855017\tError on validation set 0.05351254950553296\n",
            "Epoch 82: \terror: 0.10301182379025946\tError on validation set 0.05346970012534065\n",
            "Epoch 83: \terror: 0.10271642389515127\tError on validation set 0.05342701070304697\n",
            "Epoch 84: \terror: 0.10242583481122942\tError on validation set 0.05338447935755511\n",
            "Epoch 85: \terror: 0.10213994004254458\tError on validation set 0.05334210425059038\n",
            "Epoch 86: \terror: 0.10185862605173608\tError on validation set 0.05329988358561822\n",
            "Epoch 87: \terror: 0.10158178218455403\tError on validation set 0.053257815606794004\n",
            "Epoch 88: \terror: 0.10130930059630337\tError on validation set 0.05321589859793268\n",
            "Epoch 89: \terror: 0.10104107618017301\tError on validation set 0.05317413088151167\n",
            "Epoch 90: \terror: 0.10077700649738551\tError on validation set 0.0531325108176947\n",
            "Epoch 91: \terror: 0.10051699170913485\tError on validation set 0.053091036803383174\n",
            "Epoch 92: \terror: 0.10026093451025743\tError on validation set 0.05304970727128887\n",
            "Epoch 93: \terror: 0.10000874006460427\tError on validation set 0.05300852068903297\n",
            "Epoch 94: \terror: 0.09976031594205077\tError on validation set 0.0529674755582676\n",
            "Epoch 95: \terror: 0.09951557205712437\tError on validation set 0.05292657041381866\n",
            "Epoch 96: \terror: 0.09927442060919008\tError on validation set 0.05288580382285032\n",
            "Epoch 97: \terror: 0.09903677602417225\tError on validation set 0.052845174384052986\n",
            "Epoch 98: \terror: 0.09880255489775304\tError on validation set 0.05280468072684896\n",
            "Epoch 99: \terror: 0.0985716759400317\tError on validation set 0.052764321510621506\n",
            "Epoch 100: \terror: 0.09834405992158436\tError on validation set 0.0527240954239607\n"
          ],
          "name": "stdout"
        }
      ]
    },
    {
      "cell_type": "code",
      "metadata": {
        "id": "a4J5KgMAm-Qi"
      },
      "source": [
        ""
      ],
      "execution_count": null,
      "outputs": []
    }
  ]
}