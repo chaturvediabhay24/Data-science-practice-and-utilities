{
  "nbformat": 4,
  "nbformat_minor": 0,
  "metadata": {
    "colab": {
      "name": "Post-quantization-techniques.ipynb",
      "provenance": [],
      "collapsed_sections": []
    },
    "kernelspec": {
      "name": "python3",
      "display_name": "Python 3"
    },
    "accelerator": "GPU"
  },
  "cells": [
    {
      "cell_type": "code",
      "metadata": {
        "id": "yS0GPrS1vISX",
        "colab_type": "code",
        "outputId": "a515e756-4d7b-4cde-ad8e-b680a6c47b7c",
        "colab": {
          "base_uri": "https://localhost:8080/",
          "height": 35
        }
      },
      "source": [
        "from google.colab import drive\n",
        "drive.mount('/content/gdrive')"
      ],
      "execution_count": 0,
      "outputs": [
        {
          "output_type": "stream",
          "text": [
            "Drive already mounted at /content/gdrive; to attempt to forcibly remount, call drive.mount(\"/content/gdrive\", force_remount=True).\n"
          ],
          "name": "stdout"
        }
      ]
    },
    {
      "cell_type": "code",
      "metadata": {
        "id": "-co3kGk2waDW",
        "colab_type": "code",
        "outputId": "f7aa3b90-49a9-47ca-f8b7-4da9715c1a4d",
        "colab": {
          "base_uri": "https://localhost:8080/",
          "height": 35
        }
      },
      "source": [
        "ls"
      ],
      "execution_count": 0,
      "outputs": [
        {
          "output_type": "stream",
          "text": [
            "\u001b[0m\u001b[01;34mgdrive\u001b[0m/  \u001b[01;34msample_data\u001b[0m/\n"
          ],
          "name": "stdout"
        }
      ]
    },
    {
      "cell_type": "code",
      "metadata": {
        "id": "x5wZgFtpwcQk",
        "colab_type": "code",
        "outputId": "6724e350-bec6-4e0a-a61d-7dff25ecab6f",
        "colab": {
          "base_uri": "https://localhost:8080/",
          "height": 35
        }
      },
      "source": [
        "cd gdrive/My Drive/Datasets/cat_vs_dog/"
      ],
      "execution_count": 0,
      "outputs": [
        {
          "output_type": "stream",
          "text": [
            "/content/gdrive/My Drive/Datasets/cat_vs_dog\n"
          ],
          "name": "stdout"
        }
      ]
    },
    {
      "cell_type": "code",
      "metadata": {
        "id": "_4PcqhVA6kap",
        "colab_type": "code",
        "colab": {}
      },
      "source": [
        "!pip install tensorflow==2.*\n",
        "!pip install tensorflow-hub>=0.6.0\n",
        "!pip install tf-nightly"
      ],
      "execution_count": 0,
      "outputs": []
    },
    {
      "cell_type": "code",
      "metadata": {
        "id": "cCQdBs9yTTWn",
        "colab_type": "code",
        "colab": {}
      },
      "source": [
        "!pip uninstall tensorflow_estimator\n",
        "!pip install tensorflow_estimator"
      ],
      "execution_count": 0,
      "outputs": []
    },
    {
      "cell_type": "code",
      "metadata": {
        "id": "2cOWfDJbSJJZ",
        "colab_type": "code",
        "colab": {}
      },
      "source": [
        "import tensorflow as tf\n",
        "import numpy as np\n",
        "import tensorflow_hub as hub\n",
        "from tensorflow.keras.models import Sequential\n",
        "from tensorflow.keras.layers import Convolution2D\n",
        "from tensorflow.keras.layers import MaxPooling2D\n",
        "from tensorflow.keras.layers import Flatten\n",
        "from tensorflow.keras.layers import Dense"
      ],
      "execution_count": 0,
      "outputs": []
    },
    {
      "cell_type": "code",
      "metadata": {
        "id": "xyhb3RknwPMH",
        "colab_type": "code",
        "colab": {}
      },
      "source": [
        "classifier = Sequential()\n",
        "\n",
        "classifier.add(Convolution2D(32, 3, 3, input_shape = (64, 64, 3), activation = 'relu'))\n",
        "\n",
        "classifier.add(MaxPooling2D(pool_size = (2, 2)))\n",
        "\n",
        "classifier.add(Convolution2D(32, 3, 3, activation = 'relu'))\n",
        "classifier.add(MaxPooling2D(pool_size = (2, 2)))\n",
        "\n",
        "classifier.add(Flatten())\n",
        "\n",
        "classifier.add(Dense(units = 128, activation = 'relu'))\n",
        "classifier.add(Dense(units = 1, activation = 'sigmoid'))\n",
        "\n",
        "classifier.compile(optimizer = 'adam', loss = 'binary_crossentropy', metrics = ['accuracy'])"
      ],
      "execution_count": 0,
      "outputs": []
    },
    {
      "cell_type": "code",
      "metadata": {
        "id": "unkCATbjwSVG",
        "colab_type": "code",
        "outputId": "73abd1e6-faf9-4913-f367-6a7a2901d6f2",
        "colab": {
          "base_uri": "https://localhost:8080/",
          "height": 54
        }
      },
      "source": [
        "from tensorflow.keras.preprocessing.image import ImageDataGenerator\n",
        "\n",
        "train_datagen = ImageDataGenerator(rescale = 1./255,\n",
        "                                   shear_range = 0.2,\n",
        "                                   zoom_range = 0.2,\n",
        "                                   horizontal_flip = True)\n",
        "\n",
        "test_datagen = ImageDataGenerator(rescale = 1./255)\n",
        "\n",
        "training_set = train_datagen.flow_from_directory('training_set',\n",
        "                                                 target_size = (64, 64),\n",
        "                                                 batch_size = 32,\n",
        "                                                 class_mode = 'binary')\n",
        "\n",
        "valid_gen = test_datagen.flow_from_directory('test_set',\n",
        "                                            target_size = (64, 64),\n",
        "                                            batch_size = 32,\n",
        "                                            class_mode = 'binary')\n"
      ],
      "execution_count": 0,
      "outputs": [
        {
          "output_type": "stream",
          "text": [
            "Found 8009 images belonging to 2 classes.\n",
            "Found 2000 images belonging to 2 classes.\n"
          ],
          "name": "stdout"
        }
      ]
    },
    {
      "cell_type": "code",
      "metadata": {
        "id": "LmZdPhW5ETQH",
        "colab_type": "code",
        "outputId": "41de66f4-1cf7-4e74-f63d-22c702d06234",
        "colab": {
          "base_uri": "https://localhost:8080/",
          "height": 276
        }
      },
      "source": [
        "classifier.fit_generator(valid_gen,epochs=2)"
      ],
      "execution_count": 0,
      "outputs": [
        {
          "output_type": "stream",
          "text": [
            "WARNING:tensorflow:From <ipython-input-7-32bffa995765>:2: Model.fit_generator (from tensorflow.python.keras.engine.training) is deprecated and will be removed in a future version.\n",
            "Instructions for updating:\n",
            "Please use Model.fit, which supports generators.\n",
            "WARNING:tensorflow:sample_weight modes were coerced from\n",
            "  ...\n",
            "    to  \n",
            "  ['...']\n",
            "Train for 63 steps\n",
            "Epoch 1/2\n",
            "63/63 [==============================] - 8s 121ms/step - loss: 0.6926 - accuracy: 0.5085\n",
            "Epoch 2/2\n",
            "63/63 [==============================] - 6s 102ms/step - loss: 0.6875 - accuracy: 0.5445\n"
          ],
          "name": "stdout"
        },
        {
          "output_type": "execute_result",
          "data": {
            "text/plain": [
              "<tensorflow.python.keras.callbacks.History at 0x7f1d90229860>"
            ]
          },
          "metadata": {
            "tags": []
          },
          "execution_count": 7
        }
      ]
    },
    {
      "cell_type": "markdown",
      "metadata": {
        "id": "Y7unKngwJt02",
        "colab_type": "text"
      },
      "source": [
        "**TFlite conversion**"
      ]
    },
    {
      "cell_type": "code",
      "metadata": {
        "id": "9vR_WoVdwX60",
        "colab_type": "code",
        "outputId": "373992fe-1450-4839-9e0c-224ee164531a",
        "colab": {
          "base_uri": "https://localhost:8080/",
          "height": 35
        }
      },
      "source": [
        "!mkdir \"tflite_models\"\n",
        "TFLITE_MODEL = \"tflite_models/catvsdog.tflite\"\n",
        "TFLITE_WEIGHT_QUANT_MODEL = \"tflite_models/catvsdog_weight_quant.tflite\"\n",
        "TFLITE_FP16_QUANT_MODEL=\"tflite_models/catvsdog_fp16_quant.tflite\"\n",
        "TFLITE_INTEGER_QUANT_MODEL=\"tflite_models/catvsdog_integer_quant.tflite\""
      ],
      "execution_count": 0,
      "outputs": [
        {
          "output_type": "stream",
          "text": [
            "mkdir: cannot create directory ‘tflite_models’: File exists\n"
          ],
          "name": "stdout"
        }
      ]
    },
    {
      "cell_type": "code",
      "metadata": {
        "id": "AxCzmTcn2jyt",
        "colab_type": "code",
        "outputId": "282ad376-f087-4de9-bc69-6e88bb005fa0",
        "colab": {
          "base_uri": "https://localhost:8080/",
          "height": 110
        }
      },
      "source": [
        "CATVSDOG_SAVED_MODEL = \"saved_models/catvsdog\"\n",
        "tf.saved_model.save(classifier, CATVSDOG_SAVED_MODEL)"
      ],
      "execution_count": 0,
      "outputs": [
        {
          "output_type": "stream",
          "text": [
            "WARNING:tensorflow:From /usr/local/lib/python3.6/dist-packages/tensorflow_core/python/ops/resource_variable_ops.py:1809: calling BaseResourceVariable.__init__ (from tensorflow.python.ops.resource_variable_ops) with constraint is deprecated and will be removed in a future version.\n",
            "Instructions for updating:\n",
            "If using Keras pass *_constraint arguments to layers.\n",
            "INFO:tensorflow:Assets written to: saved_models/catvsdog/assets\n"
          ],
          "name": "stdout"
        }
      ]
    },
    {
      "cell_type": "code",
      "metadata": {
        "id": "mfyEXmmS4GIK",
        "colab_type": "code",
        "outputId": "50a3441c-8626-4317-bd4e-b2eb082a25d4",
        "colab": {
          "base_uri": "https://localhost:8080/",
          "height": 35
        }
      },
      "source": [
        "catvsdog_model = hub.load(CATVSDOG_SAVED_MODEL)\n",
        "print(catvsdog_model)"
      ],
      "execution_count": 0,
      "outputs": [
        {
          "output_type": "stream",
          "text": [
            "<tensorflow.python.saved_model.load.Loader._recreate_base_user_object.<locals>._UserObject object at 0x7f1d67dcefd0>\n"
          ],
          "name": "stdout"
        }
      ]
    },
    {
      "cell_type": "markdown",
      "metadata": {
        "id": "mj8kUetYNuWE",
        "colab_type": "text"
      },
      "source": [
        "**0) Simple Conversion to tflite without quantization**"
      ]
    },
    {
      "cell_type": "code",
      "metadata": {
        "id": "3dbwS8lINuCn",
        "colab_type": "code",
        "outputId": "70c21c39-350e-406b-8121-0a635fedb710",
        "colab": {
          "base_uri": "https://localhost:8080/",
          "height": 74
        }
      },
      "source": [
        "from tensorflow import lite\n",
        "# Converting a tf.Keras model to a TensorFlow Lite model.\n",
        "converter = lite.TFLiteConverter.from_keras_model(classifier)\n",
        "tflite_model = converter.convert()\n",
        "open(TFLITE_MODEL, \"wb\").write(tflite_model)"
      ],
      "execution_count": 0,
      "outputs": [
        {
          "output_type": "stream",
          "text": [
            "WARNING:absl:Please consider switching to use new converter by setting experimental_new_converter to true. Old converter (TOCO) is deprecated and flow will be switched on by default to use new converter soon.\n"
          ],
          "name": "stderr"
        },
        {
          "output_type": "execute_result",
          "data": {
            "text/plain": [
              "60376"
            ]
          },
          "metadata": {
            "tags": []
          },
          "execution_count": 11
        }
      ]
    },
    {
      "cell_type": "markdown",
      "metadata": {
        "id": "ViVB4wuSNTfz",
        "colab_type": "text"
      },
      "source": [
        "**1) Weight Quantization**"
      ]
    },
    {
      "cell_type": "code",
      "metadata": {
        "id": "8k83b3ZN5lQD",
        "colab_type": "code",
        "outputId": "51392d24-bf16-4294-9f2a-e997d9b164ee",
        "colab": {
          "base_uri": "https://localhost:8080/",
          "height": 74
        }
      },
      "source": [
        "from tensorflow import lite\n",
        "converter = lite.TFLiteConverter.from_keras_model(classifier)\n",
        "converter.optimizations = [tf.lite.Optimize.OPTIMIZE_FOR_SIZE]\n",
        "tflite_weight_quant_model = converter.convert()\n",
        "open(TFLITE_WEIGHT_QUANT_MODEL, \"wb\").write(tflite_weight_quant_model)"
      ],
      "execution_count": 0,
      "outputs": [
        {
          "output_type": "stream",
          "text": [
            "WARNING:absl:Please consider switching to use new converter by setting experimental_new_converter to true. Old converter (TOCO) is deprecated and flow will be switched on by default to use new converter soon.\n"
          ],
          "name": "stderr"
        },
        {
          "output_type": "execute_result",
          "data": {
            "text/plain": [
              "20480"
            ]
          },
          "metadata": {
            "tags": []
          },
          "execution_count": 12
        }
      ]
    },
    {
      "cell_type": "markdown",
      "metadata": {
        "id": "GdKzsX6-Ow4_",
        "colab_type": "text"
      },
      "source": [
        "**2) Full Integer Quantization**"
      ]
    },
    {
      "cell_type": "code",
      "metadata": {
        "id": "aBn2Nl3JOwfO",
        "colab_type": "code",
        "outputId": "cddf4d17-c60f-4683-a7cb-8e6f94753dbe",
        "colab": {
          "base_uri": "https://localhost:8080/",
          "height": 74
        }
      },
      "source": [
        "import tensorflow as tf\n",
        "num_calibration_steps=50\n",
        "from matplotlib.image import imread\n",
        "def representative_dataset_gen():\n",
        "  for _ in range(num_calibration_steps):\n",
        "    name=\"training_set/dogs/dog.\"+str(_+1)+\".jpg\"\n",
        "    image = imread(name)\n",
        "    image = np.resize(image,(64,64,3))\n",
        "    l=[]\n",
        "    l.append(image)\n",
        "    image=np.array(l)\n",
        "    image =image.astype(np.float32)\n",
        "    yield [image]\n",
        "  for _ in range(num_calibration_steps):\n",
        "    name=\"training_set/cats/cat.\"+str(_+1)+\".jpg\"\n",
        "    image = imread(name)\n",
        "    image = np.resize(image,(64,64,3))\n",
        "    l=[]\n",
        "    l.append(image)\n",
        "    image=np.array(l)\n",
        "    image =image.astype(np.float32)\n",
        "    yield [image]\n",
        "\n",
        "converter = tf.lite.TFLiteConverter.from_keras_model(classifier)\n",
        "converter.optimizations = [tf.lite.Optimize.DEFAULT]\n",
        "converter.representative_dataset = tf.lite.RepresentativeDataset(representative_dataset_gen) \n",
        "tflite_integer_quant_model = converter.convert()\n",
        "\n",
        "open(TFLITE_INTEGER_QUANT_MODEL, \"wb\").write(tflite_integer_quant_model)"
      ],
      "execution_count": 0,
      "outputs": [
        {
          "output_type": "stream",
          "text": [
            "WARNING:absl:Please consider switching to use new converter by setting experimental_new_converter to true. Old converter (TOCO) is deprecated and flow will be switched on by default to use new converter soon.\n"
          ],
          "name": "stderr"
        },
        {
          "output_type": "execute_result",
          "data": {
            "text/plain": [
              "20416"
            ]
          },
          "metadata": {
            "tags": []
          },
          "execution_count": 13
        }
      ]
    },
    {
      "cell_type": "markdown",
      "metadata": {
        "id": "GFYINsGNPHOf",
        "colab_type": "text"
      },
      "source": [
        "**Float16 Quantization**"
      ]
    },
    {
      "cell_type": "code",
      "metadata": {
        "id": "SwcKdKfjPHAE",
        "colab_type": "code",
        "outputId": "b00c6fdf-df55-4b2d-b0c3-54156cfa067d",
        "colab": {
          "base_uri": "https://localhost:8080/",
          "height": 74
        }
      },
      "source": [
        "import tensorflow as tf\n",
        "\n",
        "converter = tf.lite.TFLiteConverter.from_keras_model(classifier)\n",
        "converter.optimizations = [tf.lite.Optimize.DEFAULT]\n",
        "converter.target_spec.supported_types = [tf.float16]\n",
        "tflite_fp16_quant_model = converter.convert()\n",
        "open(TFLITE_FP16_QUANT_MODEL, \"wb\").write(tflite_fp16_quant_model)"
      ],
      "execution_count": 0,
      "outputs": [
        {
          "output_type": "stream",
          "text": [
            "WARNING:absl:Please consider switching to use new converter by setting experimental_new_converter to true. Old converter (TOCO) is deprecated and flow will be switched on by default to use new converter soon.\n"
          ],
          "name": "stderr"
        },
        {
          "output_type": "execute_result",
          "data": {
            "text/plain": [
              "32332"
            ]
          },
          "metadata": {
            "tags": []
          },
          "execution_count": 14
        }
      ]
    },
    {
      "cell_type": "markdown",
      "metadata": {
        "id": "enWIdZllxJeC",
        "colab_type": "text"
      },
      "source": [
        "**Load TFLite model and see some details about input/output**"
      ]
    },
    {
      "cell_type": "code",
      "metadata": {
        "id": "XYKvPPbZ83nC",
        "colab_type": "code",
        "outputId": "9f138b93-5a2a-4aed-8f5d-ccf262398ccd",
        "colab": {
          "base_uri": "https://localhost:8080/",
          "height": 182
        }
      },
      "source": [
        "tflite_interpreter = tf.lite.Interpreter(model_path=TFLITE_FP16_QUANT_MODEL)\n",
        "\n",
        "input_details = tflite_interpreter.get_input_details()\n",
        "output_details = tflite_interpreter.get_output_details()\n",
        "\n",
        "print(\"== Input details ==\")\n",
        "print(\"name:\", input_details[0]['name'])\n",
        "print(\"shape:\", input_details[0]['shape'])\n",
        "print(\"type:\", input_details[0]['dtype'])\n",
        "\n",
        "print(\"\\n== Output details ==\")\n",
        "print(\"name:\", output_details[0]['name'])\n",
        "print(\"shape:\", output_details[0]['shape'])\n",
        "print(\"type:\", output_details[0]['dtype'])"
      ],
      "execution_count": 0,
      "outputs": [
        {
          "output_type": "stream",
          "text": [
            "== Input details ==\n",
            "name: conv2d_input\n",
            "shape: [ 1 64 64  3]\n",
            "type: <class 'numpy.float32'>\n",
            "\n",
            "== Output details ==\n",
            "name: Identity\n",
            "shape: [1 1]\n",
            "type: <class 'numpy.float32'>\n"
          ],
          "name": "stdout"
        }
      ]
    },
    {
      "cell_type": "markdown",
      "metadata": {
        "id": "iqoglol-xYLE",
        "colab_type": "text"
      },
      "source": [
        "**Get images and labels batch from validation dataset generator**"
      ]
    },
    {
      "cell_type": "code",
      "metadata": {
        "id": "os2b9WxS9kXP",
        "colab_type": "code",
        "outputId": "8836ad20-f7fa-4f9c-ddc1-7dc57d6b52ee",
        "colab": {
          "base_uri": "https://localhost:8080/",
          "height": 35
        }
      },
      "source": [
        "import numpy as np\n",
        "val_image_batch, val_label_batch = next(iter(valid_gen))\n",
        "true_label_ids = np.argmax(val_label_batch, axis=-1)\n",
        "\n",
        "print(\"Validation batch shape:\", val_image_batch.shape)"
      ],
      "execution_count": 0,
      "outputs": [
        {
          "output_type": "stream",
          "text": [
            "Validation batch shape: (32, 64, 64, 3)\n"
          ],
          "name": "stdout"
        }
      ]
    },
    {
      "cell_type": "markdown",
      "metadata": {
        "id": "tsbsUoUExm__",
        "colab_type": "text"
      },
      "source": [
        "**Loading models, reshaping test images and then running prediction in TFlite-quantised model**"
      ]
    },
    {
      "cell_type": "code",
      "metadata": {
        "id": "_UlOw82rDQnO",
        "colab_type": "code",
        "outputId": "3140791e-26b7-4445-af1f-89889913d13c",
        "colab": {
          "base_uri": "https://localhost:8080/",
          "height": 219
        }
      },
      "source": [
        "# Load quantized TFLite model\n",
        "tflite_interpreter_quant = tf.lite.Interpreter(model_path=TFLITE_FP16_QUANT_MODEL)\n",
        "\n",
        "# Learn about its input and output details\n",
        "input_details = tflite_interpreter_quant.get_input_details()\n",
        "output_details = tflite_interpreter_quant.get_output_details()\n",
        "\n",
        "# Resize input and output tensors to handle batch of 32 images\n",
        "tflite_interpreter_quant.resize_tensor_input(input_details[0]['index'], (32, 64, 64, 3))\n",
        "tflite_interpreter_quant.resize_tensor_input(output_details[0]['index'], (32, 5))\n",
        "tflite_interpreter_quant.allocate_tensors()\n",
        "\n",
        "input_details = tflite_interpreter_quant.get_input_details()\n",
        "output_details = tflite_interpreter_quant.get_output_details()\n",
        "\n",
        "print(\"== Input details ==\")\n",
        "print(\"name:\", input_details[0]['name'])\n",
        "print(\"shape:\", input_details[0]['shape'])\n",
        "print(\"type:\", input_details[0]['dtype'])\n",
        "\n",
        "print(\"\\n== Output details ==\")\n",
        "print(\"name:\", output_details[0]['name'])\n",
        "print(\"shape:\", output_details[0]['shape'])\n",
        "print(\"type:\", output_details[0]['dtype'])\n",
        "\n",
        "# Run inference\n",
        "tflite_interpreter_quant.set_tensor(input_details[0]['index'], val_image_batch)\n",
        "\n",
        "tflite_interpreter_quant.invoke()\n",
        "\n",
        "tflite_q_model_predictions = tflite_interpreter_quant.get_tensor(output_details[0]['index'])\n",
        "print(\"\\nPrediction results shape:\", tflite_q_model_predictions.shape)"
      ],
      "execution_count": 0,
      "outputs": [
        {
          "output_type": "stream",
          "text": [
            "== Input details ==\n",
            "name: conv2d_input\n",
            "shape: [32 64 64  3]\n",
            "type: <class 'numpy.float32'>\n",
            "\n",
            "== Output details ==\n",
            "name: Identity\n",
            "shape: [32  1]\n",
            "type: <class 'numpy.float32'>\n",
            "\n",
            "Prediction results shape: (32, 1)\n"
          ],
          "name": "stdout"
        }
      ]
    },
    {
      "cell_type": "code",
      "metadata": {
        "id": "4dsh_WSTHpZZ",
        "colab_type": "code",
        "outputId": "859ea22c-c969-4aec-d2aa-5f75173046e6",
        "colab": {
          "base_uri": "https://localhost:8080/",
          "height": 605
        }
      },
      "source": [
        "print(tflite_q_model_predictions)"
      ],
      "execution_count": 0,
      "outputs": [
        {
          "output_type": "stream",
          "text": [
            "[[0.4496088 ]\n",
            " [0.4463991 ]\n",
            " [0.4271283 ]\n",
            " [0.5131845 ]\n",
            " [0.5050647 ]\n",
            " [0.48915556]\n",
            " [0.4704319 ]\n",
            " [0.48002702]\n",
            " [0.4833661 ]\n",
            " [0.46815324]\n",
            " [0.45691365]\n",
            " [0.46552303]\n",
            " [0.45869052]\n",
            " [0.46291965]\n",
            " [0.4834959 ]\n",
            " [0.57243824]\n",
            " [0.44449946]\n",
            " [0.4601686 ]\n",
            " [0.43426186]\n",
            " [0.44600034]\n",
            " [0.50837713]\n",
            " [0.49113706]\n",
            " [0.4622544 ]\n",
            " [0.45050168]\n",
            " [0.5157333 ]\n",
            " [0.45288408]\n",
            " [0.44457397]\n",
            " [0.48940024]\n",
            " [0.46762773]\n",
            " [0.442197  ]\n",
            " [0.50544566]\n",
            " [0.48047516]]\n"
          ],
          "name": "stdout"
        }
      ]
    },
    {
      "cell_type": "code",
      "metadata": {
        "id": "SKSDt29B0Aqx",
        "colab_type": "code",
        "colab": {}
      },
      "source": [
        ""
      ],
      "execution_count": 0,
      "outputs": []
    }
  ]
}