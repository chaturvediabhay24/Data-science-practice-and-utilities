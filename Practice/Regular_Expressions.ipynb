{
  "nbformat": 4,
  "nbformat_minor": 0,
  "metadata": {
    "colab": {
      "name": "Regular-Expressions.ipynb",
      "provenance": []
    },
    "kernelspec": {
      "name": "python3",
      "display_name": "Python 3"
    }
  },
  "cells": [
    {
      "cell_type": "markdown",
      "metadata": {
        "id": "SX5BgY6gvaNR"
      },
      "source": [
        "# match(), search(), findall(), finditer()\n"
      ]
    },
    {
      "cell_type": "code",
      "metadata": {
        "id": "A0q2Xx3gsBMi"
      },
      "source": [
        "import re\n",
        "\n",
        "test_str=\"123abc7263gshbfcabc234894\""
      ],
      "execution_count": null,
      "outputs": []
    },
    {
      "cell_type": "code",
      "metadata": {
        "colab": {
          "base_uri": "https://localhost:8080/"
        },
        "id": "LiwykWRWsa9S",
        "outputId": "7e9069b4-7e2b-4144-f2bc-fdfcf4484288"
      },
      "source": [
        "### 1st way to search pattern\n",
        "### we will get all matches and return objects\n",
        "pattern=re.compile(r\"abc\")\n",
        "matches=pattern.finditer(test_str)\n",
        "\n",
        "for _ in matches:\n",
        "  print(_)"
      ],
      "execution_count": null,
      "outputs": [
        {
          "output_type": "stream",
          "text": [
            "<_sre.SRE_Match object; span=(3, 6), match='abc'>\n",
            "<_sre.SRE_Match object; span=(16, 19), match='abc'>\n"
          ],
          "name": "stdout"
        }
      ]
    },
    {
      "cell_type": "code",
      "metadata": {
        "colab": {
          "base_uri": "https://localhost:8080/"
        },
        "id": "uAg2cnDmv-bE",
        "outputId": "5b6a8997-a812-4f14-b339-8e78e094850b"
      },
      "source": [
        " \n",
        "\n",
        "### 2nd way to search pattern\n",
        "matches=re.finditer(r\"abc\", test_str)\n",
        "\n",
        "print(matches)\n"
      ],
      "execution_count": null,
      "outputs": [
        {
          "output_type": "stream",
          "text": [
            "<callable_iterator object at 0x7f7a1afd72e8>\n"
          ],
          "name": "stdout"
        }
      ]
    },
    {
      "cell_type": "code",
      "metadata": {
        "colab": {
          "base_uri": "https://localhost:8080/"
        },
        "id": "ahLZwFrswDnl",
        "outputId": "a114a753-e6ed-48bc-95d8-33e75a01c0ab"
      },
      "source": [
        "\n",
        "### 3rd way to search pattern\n",
        "### ''' we will get all matches and return strings '''\n",
        "pattern=re.compile(r\"abc\")\n",
        "matches=pattern.findall(test_str)\n",
        "print(matches)\n"
      ],
      "execution_count": null,
      "outputs": [
        {
          "output_type": "stream",
          "text": [
            "['abc', 'abc']\n"
          ],
          "name": "stdout"
        }
      ]
    },
    {
      "cell_type": "code",
      "metadata": {
        "colab": {
          "base_uri": "https://localhost:8080/"
        },
        "id": "nVciLf3HwE2f",
        "outputId": "782356e0-fd3d-485b-c062-5198a8aa89e6"
      },
      "source": [
        "\n",
        "### 4TH way to search pattern\n",
        "### matche at the begining of the string, if pattern is present\n",
        "### return object\n",
        "pattern=re.compile(r\"123\")\n",
        "matches=pattern.match(test_str) \n",
        "print(matches)\n"
      ],
      "execution_count": null,
      "outputs": [
        {
          "output_type": "stream",
          "text": [
            "<_sre.SRE_Match object; span=(0, 3), match='123'>\n"
          ],
          "name": "stdout"
        }
      ]
    },
    {
      "cell_type": "code",
      "metadata": {
        "colab": {
          "base_uri": "https://localhost:8080/"
        },
        "id": "8tZ2kt-LwF7c",
        "outputId": "23b65a2a-f86a-4cb5-a821-b9686ef6cf70"
      },
      "source": [
        "### 4TH way to search pattern\n",
        "### matches the first pattern of the string, not necessary at start of string\n",
        "### return object\n",
        "pattern=re.compile(r\"123\")\n",
        "matches=pattern.match(test_str) \n",
        "print(matches)"
      ],
      "execution_count": null,
      "outputs": [
        {
          "output_type": "stream",
          "text": [
            "<_sre.SRE_Match object; span=(0, 3), match='123'>\n"
          ],
          "name": "stdout"
        }
      ]
    },
    {
      "cell_type": "markdown",
      "metadata": {
        "id": "7bW7j3kv0cRM"
      },
      "source": [
        "# group, start, end, span"
      ]
    },
    {
      "cell_type": "code",
      "metadata": {
        "id": "PaZ6TzsF0_3A"
      },
      "source": [
        "import re\n",
        "\n",
        "test_str=\"123abc7263gshbfcabc234894\""
      ],
      "execution_count": null,
      "outputs": []
    },
    {
      "cell_type": "code",
      "metadata": {
        "colab": {
          "base_uri": "https://localhost:8080/"
        },
        "id": "7iOQparEwbqg",
        "outputId": "6daf2e7e-bb47-4954-f3f7-a31817e53664"
      },
      "source": [
        "pattern=re.compile(r\"abc\")\n",
        "matches=pattern.finditer(test_str) \n",
        "\n",
        "for _ in matches:\n",
        "  print(_.group(), \n",
        "        _.span(), \n",
        "        _.start(), \n",
        "        _.end(), sep=\" - \")"
      ],
      "execution_count": null,
      "outputs": [
        {
          "output_type": "stream",
          "text": [
            "abc - (3, 6) - 3 - 6\n",
            "abc - (16, 19) - 16 - 19\n"
          ],
          "name": "stdout"
        }
      ]
    },
    {
      "cell_type": "markdown",
      "metadata": {
        "id": "Wq1CSaCpBihx"
      },
      "source": [
        "# Meta characters\n",
        "\n",
        "Metacharacters are characters with a special meaning:\n",
        "All meta characters: . ^ $ * + ? { } [ ] \\ | ( )\n",
        "Meta characters need need to be escaped (with ) if we actually want to search for the char.\n",
        "\n",
        "    . Any character (except newline character) \"he..o\"\n",
        "    ^ Starts with \"^hello\"\n",
        "    $ Ends with \"world$\"\n",
        "    * Zero or more occurrences \"aix*\"\n",
        "    + One or more occurrences \"aix+\"\n",
        "    { } Exactly the specified number of occurrences \"al{2}\"\n",
        "    [] A set of characters \"[a-m]\"\n",
        "    \\ Signals a special sequence (can also be used to escape special characters) \"\\d\"\n",
        "    | Either or \"falls|stays\"\n",
        "    ( ) Capture and group"
      ]
    },
    {
      "cell_type": "code",
      "metadata": {
        "id": "2KZIWWegF0k7"
      },
      "source": [
        "import re\n",
        "\n",
        "test_str=\"123abc7263gshbfcabc234894\""
      ],
      "execution_count": null,
      "outputs": []
    },
    {
      "cell_type": "code",
      "metadata": {
        "id": "bfrWhK2VF1Sr"
      },
      "source": [
        "pattern=re.compile(r\".\")\n",
        "matches=pattern.match(test_str) \n",
        "print(matches)"
      ],
      "execution_count": null,
      "outputs": []
    },
    {
      "cell_type": "markdown",
      "metadata": {
        "id": "_WHDfe9aBsuj"
      },
      "source": [
        "# More Metacharacters / Special Sequences\n",
        "\n",
        "A special sequence is a \\ followed by one of the characters in the list below, and has a special meaning:\n",
        "\n",
        "    \\d :Matches any decimal digit; this is equivalent to the class [0-9].\n",
        "    \\D : Matches any non-digit character; this is equivalent to the class [^0-9].\n",
        "    \\s : Matches any whitespace character;\n",
        "    \\S : Matches any non-whitespace character;\n",
        "    \\w : Matches any alphanumeric (word) character; this is equivalent to the class [a-zA-Z0-9_].\n",
        "    \\W : Matches any non-alphanumeric character; this is equivalent to the class [^a-zA-Z0-9_].\n",
        "    \\b Returns a match where the specified characters are at the beginning or at the end of a word r\"\\bain\" r\"ain\\b\"\n",
        "    \\B Returns a match where the specified characters are present, but NOT at the beginning (or at the end) of a word r\"\\Bain\" r\"ain\\B\"\n",
        "    \\A Returns a match if the specified characters are at the beginning of the string \"\\AThe\"\n",
        "    \\Z Returns a match if the specified characters are at the end of the string \"Spain\\Z\""
      ]
    },
    {
      "cell_type": "code",
      "metadata": {
        "id": "Y9W6U1DZHGCN"
      },
      "source": [
        "pattern=re.compile(r\"\\w\")\n",
        "matches=pattern.findall(test_str) \n",
        "for match in matches:\n",
        "  print(match)"
      ],
      "execution_count": null,
      "outputs": []
    },
    {
      "cell_type": "markdown",
      "metadata": {
        "id": "bk8cg0q4JVYh"
      },
      "source": [
        "# grouping ( )"
      ]
    },
    {
      "cell_type": "code",
      "metadata": {
        "colab": {
          "base_uri": "https://localhost:8080/"
        },
        "id": "GkoHlViUJVz0",
        "outputId": "90870815-a495-4b31-c217-80a9313df6e6"
      },
      "source": [
        "emails = \"\"\"\n",
        "pythonengineer@gmail.com\n",
        "Python-engineer@gmx.de\n",
        "python-engineer123@my-domain.org\n",
        "\"\"\"\n",
        "pattern = re.compile('[a-zA-Z1-9-]+@[a-zA-Z-]+\\.[a-zA-Z]+')\n",
        "pattern = re.compile('[a-zA-Z1-9-]+@[a-zA-Z-]+\\.(com|de)')\n",
        "pattern = re.compile('([a-zA-Z1-9-]+)@([a-zA-Z-]+)\\.([a-zA-Z]+)')\n",
        "matches = pattern.finditer(emails)\n",
        "for match in matches:\n",
        "    print(match)\n",
        "    print(match.group(0))\n",
        "    print(match.group(1))\n",
        "    print(match.group(2))\n",
        "    print(match.group(3))"
      ],
      "execution_count": null,
      "outputs": [
        {
          "output_type": "stream",
          "text": [
            "<_sre.SRE_Match object; span=(1, 25), match='pythonengineer@gmail.com'>\n",
            "pythonengineer@gmail.com\n",
            "pythonengineer\n",
            "gmail\n",
            "com\n",
            "<_sre.SRE_Match object; span=(26, 48), match='Python-engineer@gmx.de'>\n",
            "Python-engineer@gmx.de\n",
            "Python-engineer\n",
            "gmx\n",
            "de\n",
            "<_sre.SRE_Match object; span=(49, 81), match='python-engineer123@my-domain.org'>\n",
            "python-engineer123@my-domain.org\n",
            "python-engineer123\n",
            "my-domain\n",
            "org\n"
          ],
          "name": "stdout"
        }
      ]
    },
    {
      "cell_type": "markdown",
      "metadata": {
        "id": "lIHj0ZHqJurL"
      },
      "source": [
        "# Modifying strings\n",
        "\n",
        "    split(): Split the string into a list, splitting it wherever the RE matches\n",
        "    sub(): Find all substrings where the RE matches, and replace them with a different string"
      ]
    },
    {
      "cell_type": "code",
      "metadata": {
        "colab": {
          "base_uri": "https://localhost:8080/"
        },
        "id": "-zCduawjJyDv",
        "outputId": "ff85eb72-1c77-4504-f2f7-bc78b2746309"
      },
      "source": [
        "my_string = 'abc123ABCDEF123abc'\n",
        "pattern = re.compile(r'123') #  no escape for the . here in the set\n",
        "matches = pattern.split(my_string)\n",
        "print(matches)\n",
        "\n",
        "my_string = \"hello world, you are the best world\"\n",
        "pattern = re.compile(r'world')\n",
        "subbed_string = pattern.sub(r'planet', my_string)\n",
        "print(subbed_string)"
      ],
      "execution_count": null,
      "outputs": [
        {
          "output_type": "stream",
          "text": [
            "['abc', 'ABCDEF', 'abc']\n",
            "hello planet, you are the best planet\n"
          ],
          "name": "stdout"
        }
      ]
    },
    {
      "cell_type": "markdown",
      "metadata": {
        "id": "8I_B-EF4Ei7Q"
      },
      "source": [
        "# Compilation Flags\n",
        "\n",
        "    ASCII, A : Makes several escapes like \\w, \\b, \\s and \\d match only on ASCII characters with the respective property.\n",
        "    DOTALL, S : Make . match any character, including newlines.\n",
        "    IGNORECASE, I : Do case-insensitive matches.\n",
        "    LOCALE, L : Do a locale-aware match.\n",
        "    MULTILINE, M : Multi-line matching, affecting ^ and $.\n",
        "    VERBOSE, X (for ‘extended’) : Enable verbose REs, which can be organized more cleanly and understandably."
      ]
    },
    {
      "cell_type": "code",
      "metadata": {
        "id": "Prcs7HUZKxJH",
        "colab": {
          "base_uri": "https://localhost:8080/"
        },
        "outputId": "f295d654-4a2d-45da-a79c-d82e1646d985"
      },
      "source": [
        "my_string = \"Hello World\"\n",
        "pattern = re.compile(r'world', re.IGNORECASE) # No match without I flag\n",
        "matches = pattern.finditer(my_string)\n",
        "for match in matches:\n",
        "    print(match)\n",
        "\n",
        "my_string = '''\n",
        "hello\n",
        "cool\n",
        "Hello\n",
        "'''\n",
        "# line starts with ...\n",
        "pattern = re.compile(r'^[a-z]', re.MULTILINE) # No match without M flag\n",
        "matches = pattern.finditer(my_string)\n",
        "for match in matches:\n",
        "    print(match)"
      ],
      "execution_count": null,
      "outputs": [
        {
          "output_type": "stream",
          "text": [
            "<_sre.SRE_Match object; span=(6, 11), match='World'>\n",
            "<_sre.SRE_Match object; span=(1, 2), match='h'>\n",
            "<_sre.SRE_Match object; span=(7, 8), match='c'>\n"
          ],
          "name": "stdout"
        }
      ]
    },
    {
      "cell_type": "markdown",
      "metadata": {
        "id": "CmpMIh5TDuM1"
      },
      "source": [
        "# Sets\n",
        "\n",
        "A set is a set of characters inside a pair of square brackets [] with a special meaning. Append multiple conditions back-to back, e.g. [aA-Z].\n",
        "A ^ (caret) inside a set negates the expression.\n",
        "A - (dash) in a set specifies a range if it is in between, otherwise the dash itself.\n",
        "\n",
        "Examples:\n",
        "- [arn] Returns a match where one of the specified characters (a, r, or n) are present\n",
        "- [a-n] Returns a match for any lower case character, alphabetically between a and n\n",
        "- [^arn] Returns a match for any character EXCEPT a, r, and n\n",
        "- [0123] Returns a match where any of the specified digits (0, 1, 2, or 3) are present\n",
        "- [0-9] Returns a match for any digit between 0 and 9\n",
        "- 0-5 Returns a match for any two-digit numbers from 00 and 59\n",
        "- [a-zA-Z] Returns a match for any character alphabetically between a and z, lower case OR upper case"
      ]
    },
    {
      "cell_type": "markdown",
      "metadata": {
        "id": "VEDMO-TVD2TU"
      },
      "source": [
        "# Quantifier\n",
        "\n",
        "    * : 0 or more\n",
        "    + : 1 or more\n",
        "    ? : 0 or 1, used when a character can be optional\n",
        "    {4} : exact number\n",
        "    {4,6} : range numbers (min, max)"
      ]
    },
    {
      "cell_type": "code",
      "metadata": {
        "id": "88BnoHOx1LGI"
      },
      "source": [
        ""
      ],
      "execution_count": null,
      "outputs": []
    }
  ]
}