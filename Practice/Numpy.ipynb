{
  "nbformat": 4,
  "nbformat_minor": 0,
  "metadata": {
    "colab": {
      "name": "Numpy",
      "provenance": [],
      "collapsed_sections": []
    },
    "kernelspec": {
      "name": "python3",
      "display_name": "Python 3"
    }
  },
  "cells": [
    {
      "cell_type": "code",
      "metadata": {
        "id": "WpEArxZEQ70t"
      },
      "source": [
        "import numpy as np"
      ],
      "execution_count": null,
      "outputs": []
    },
    {
      "cell_type": "code",
      "metadata": {
        "colab": {
          "base_uri": "https://localhost:8080/"
        },
        "id": "q0ttqPR-Q_dO",
        "outputId": "d0b508a7-ecb4-4856-f558-ad68cc26e7ce"
      },
      "source": [
        "a=np.arange(1,7)\n",
        "a"
      ],
      "execution_count": null,
      "outputs": [
        {
          "output_type": "execute_result",
          "data": {
            "text/plain": [
              "array([1, 2, 3, 4, 5, 6])"
            ]
          },
          "metadata": {
            "tags": []
          },
          "execution_count": 3
        }
      ]
    },
    {
      "cell_type": "markdown",
      "metadata": {
        "id": "6Zuwt_3vRfA_"
      },
      "source": [
        "# **Reshape**"
      ]
    },
    {
      "cell_type": "code",
      "metadata": {
        "colab": {
          "base_uri": "https://localhost:8080/"
        },
        "id": "yLvFHekERFY8",
        "outputId": "ee59674f-b396-4ddb-e53b-5f6527a44055"
      },
      "source": [
        "a.reshape((2,3))"
      ],
      "execution_count": null,
      "outputs": [
        {
          "output_type": "execute_result",
          "data": {
            "text/plain": [
              "array([[1, 2, 3],\n",
              "       [4, 5, 6]])"
            ]
          },
          "metadata": {
            "tags": []
          },
          "execution_count": 4
        }
      ]
    },
    {
      "cell_type": "code",
      "metadata": {
        "colab": {
          "base_uri": "https://localhost:8080/"
        },
        "id": "oqgR94m1RRHJ",
        "outputId": "f855be85-9363-4431-ea13-69f2c0f99c16"
      },
      "source": [
        "a.reshape((3,2))"
      ],
      "execution_count": null,
      "outputs": [
        {
          "output_type": "execute_result",
          "data": {
            "text/plain": [
              "array([[1, 2],\n",
              "       [3, 4],\n",
              "       [5, 6]])"
            ]
          },
          "metadata": {
            "tags": []
          },
          "execution_count": 5
        }
      ]
    },
    {
      "cell_type": "markdown",
      "metadata": {
        "id": "cj9l00DvRwb8"
      },
      "source": [
        "# **New axis**"
      ]
    },
    {
      "cell_type": "code",
      "metadata": {
        "colab": {
          "base_uri": "https://localhost:8080/"
        },
        "id": "5pgjenp8RUpA",
        "outputId": "0be3dda9-175e-4561-fff8-b17f4f05d053"
      },
      "source": [
        "a.shape"
      ],
      "execution_count": null,
      "outputs": [
        {
          "output_type": "execute_result",
          "data": {
            "text/plain": [
              "(6,)"
            ]
          },
          "metadata": {
            "tags": []
          },
          "execution_count": 7
        }
      ]
    },
    {
      "cell_type": "code",
      "metadata": {
        "colab": {
          "base_uri": "https://localhost:8080/"
        },
        "id": "b2h_qNNMRZgD",
        "outputId": "6115d656-bb6f-470a-8921-8ebf030d4957"
      },
      "source": [
        "d=a[np.newaxis, :]\n",
        "print(d)\n",
        "print(d.shape)"
      ],
      "execution_count": null,
      "outputs": [
        {
          "output_type": "stream",
          "text": [
            "[[1 2 3 4 5 6]]\n",
            "(1, 6)\n"
          ],
          "name": "stdout"
        }
      ]
    },
    {
      "cell_type": "code",
      "metadata": {
        "colab": {
          "base_uri": "https://localhost:8080/"
        },
        "id": "L1PnM6wiSMPO",
        "outputId": "4dbff9cd-842c-4c85-c696-8ebc3a0c7f0c"
      },
      "source": [
        "d=a[ :, np.newaxis]\n",
        "print(d)\n",
        "print(d.shape)"
      ],
      "execution_count": null,
      "outputs": [
        {
          "output_type": "stream",
          "text": [
            "[[1]\n",
            " [2]\n",
            " [3]\n",
            " [4]\n",
            " [5]\n",
            " [6]]\n",
            "(6, 1)\n"
          ],
          "name": "stdout"
        }
      ]
    },
    {
      "cell_type": "markdown",
      "metadata": {
        "id": "mLmK0270Tlcz"
      },
      "source": [
        "# **Concatenation**"
      ]
    },
    {
      "cell_type": "code",
      "metadata": {
        "id": "i-oXK6QxST5c"
      },
      "source": [
        "a = np.array([[1, 2], [3, 4]])\n",
        "b = np.array([[5, 6]])"
      ],
      "execution_count": null,
      "outputs": []
    },
    {
      "cell_type": "code",
      "metadata": {
        "colab": {
          "base_uri": "https://localhost:8080/"
        },
        "id": "mBNUhwcDTqAy",
        "outputId": "28b60e7b-8ad2-4a02-e1c0-5ea5a187f675"
      },
      "source": [
        "c = np.concatenate((a, b), axis=None)\n",
        "print(c)"
      ],
      "execution_count": null,
      "outputs": [
        {
          "output_type": "stream",
          "text": [
            "[1 2 3 4 5 6]\n"
          ],
          "name": "stdout"
        }
      ]
    },
    {
      "cell_type": "code",
      "metadata": {
        "colab": {
          "base_uri": "https://localhost:8080/"
        },
        "id": "MDR6t28hTsKQ",
        "outputId": "42594488-ee0d-401c-c405-4020a9c137b5"
      },
      "source": [
        "d = np.concatenate((a, b), axis=0)\n",
        "print(d)"
      ],
      "execution_count": null,
      "outputs": [
        {
          "output_type": "stream",
          "text": [
            "[[1 2]\n",
            " [3 4]\n",
            " [5 6]]\n"
          ],
          "name": "stdout"
        }
      ]
    },
    {
      "cell_type": "code",
      "metadata": {
        "colab": {
          "base_uri": "https://localhost:8080/"
        },
        "id": "Jcy4LL3YTtox",
        "outputId": "1a9430fc-2afa-4b39-f9a6-70ce88ca7ad5"
      },
      "source": [
        "e = np.concatenate((a, b.T), axis=1)\n",
        "print(e)"
      ],
      "execution_count": null,
      "outputs": [
        {
          "output_type": "stream",
          "text": [
            "[[1 2 5]\n",
            " [3 4 6]]\n"
          ],
          "name": "stdout"
        }
      ]
    },
    {
      "cell_type": "markdown",
      "metadata": {
        "id": "_wPLrbLJT27h"
      },
      "source": [
        "# **Horizontal stack and vertical stack**"
      ]
    },
    {
      "cell_type": "code",
      "metadata": {
        "colab": {
          "base_uri": "https://localhost:8080/"
        },
        "id": "7Af27uB8Tw88",
        "outputId": "df2e5c47-4dec-4e2a-ec4e-968a7913da80"
      },
      "source": [
        "a = np.array([1,2,3,4])\n",
        "b = np.array([5,6,7,8])\n",
        "c = np.hstack((a,b))\n",
        "print(c)"
      ],
      "execution_count": null,
      "outputs": [
        {
          "output_type": "stream",
          "text": [
            "[1 2 3 4 5 6 7 8]\n"
          ],
          "name": "stdout"
        }
      ]
    },
    {
      "cell_type": "code",
      "metadata": {
        "colab": {
          "base_uri": "https://localhost:8080/"
        },
        "id": "F3w85RrFT8AL",
        "outputId": "efad03e7-46ef-40f3-f017-5603739166c4"
      },
      "source": [
        "a = np.array([[1,2], [3,4]])\n",
        "b = np.array([[5,6], [7,8]])\n",
        "c = np.hstack((a,b))\n",
        "print(c)"
      ],
      "execution_count": null,
      "outputs": [
        {
          "output_type": "stream",
          "text": [
            "[[1 2 5 6]\n",
            " [3 4 7 8]]\n"
          ],
          "name": "stdout"
        }
      ]
    },
    {
      "cell_type": "code",
      "metadata": {
        "colab": {
          "base_uri": "https://localhost:8080/"
        },
        "id": "DJeDvOUGT9wE",
        "outputId": "1388ff05-4481-4291-8f3f-3c70f59c9c10"
      },
      "source": [
        "a = np.array([1,2,3,4])\n",
        "b = np.array([5,6,7,8])\n",
        "c = np.vstack((a,b))\n",
        "print(c)"
      ],
      "execution_count": null,
      "outputs": [
        {
          "output_type": "stream",
          "text": [
            "[[1 2 3 4]\n",
            " [5 6 7 8]]\n"
          ],
          "name": "stdout"
        }
      ]
    },
    {
      "cell_type": "code",
      "metadata": {
        "colab": {
          "base_uri": "https://localhost:8080/"
        },
        "id": "Hc32mr2TT_rq",
        "outputId": "e0bd306c-691b-4d05-c2ad-a0c0f5bed301"
      },
      "source": [
        "a = np.array([[1,2], [3,4]])\n",
        "b = np.array([[5,6], [7,8]])\n",
        "c = np.vstack((a,b))\n",
        "print(c)"
      ],
      "execution_count": null,
      "outputs": [
        {
          "output_type": "stream",
          "text": [
            "[[1 2]\n",
            " [3 4]\n",
            " [5 6]\n",
            " [7 8]]\n"
          ],
          "name": "stdout"
        }
      ]
    },
    {
      "cell_type": "markdown",
      "metadata": {
        "id": "KL12iBVpVed5"
      },
      "source": [
        "# **Broadcasting**"
      ]
    },
    {
      "cell_type": "code",
      "metadata": {
        "colab": {
          "base_uri": "https://localhost:8080/"
        },
        "id": "74YpFWlcUBFK",
        "outputId": "ee6ed638-06cc-4a02-e380-9b76c8633050"
      },
      "source": [
        "x = np.array([[1,2,3], [4,5,6], [7,8,9], [10, 11, 12]])\n",
        "y = np.array([1, 0, 1])\n",
        "z = x + y  # Add v to each row of x using broadcasting\n",
        "print(z) "
      ],
      "execution_count": null,
      "outputs": [
        {
          "output_type": "stream",
          "text": [
            "[[ 2  2  4]\n",
            " [ 5  5  7]\n",
            " [ 8  8 10]\n",
            " [11 11 13]]\n"
          ],
          "name": "stdout"
        }
      ]
    },
    {
      "cell_type": "markdown",
      "metadata": {
        "id": "24BQf207WCbL"
      },
      "source": [
        "# **Axis**"
      ]
    },
    {
      "cell_type": "code",
      "metadata": {
        "colab": {
          "base_uri": "https://localhost:8080/"
        },
        "id": "PSeLGEksViXv",
        "outputId": "503b830b-21e7-4789-994d-220b54134238"
      },
      "source": [
        "a = np.array([[7,8,9,10,11,12,13], [17,18,19,20,21,22,23]])\n",
        "\n",
        "print(a.sum())          # default=None-> 210\n",
        "print(a.sum(axis=None)) # overall sum -> 210\n",
        "\n",
        "print(a.sum(axis=0)) # along the rows -> 1 sum entry for each column\n",
        "# -> [24 26 28 30 32 34 36]\n",
        "\n",
        "print(a.sum(axis=1)) # along the columns -> 1 sum entry for each row\n",
        "# -> [ 70 140]\n"
      ],
      "execution_count": null,
      "outputs": [
        {
          "output_type": "stream",
          "text": [
            "210\n",
            "210\n",
            "[24 26 28 30 32 34 36]\n",
            "[ 70 140]\n"
          ],
          "name": "stdout"
        }
      ]
    },
    {
      "cell_type": "markdown",
      "metadata": {
        "id": "SkWm2_wUWPvz"
      },
      "source": [
        "# **copying**"
      ]
    },
    {
      "cell_type": "code",
      "metadata": {
        "colab": {
          "base_uri": "https://localhost:8080/"
        },
        "id": "9iSS_NryWFYp",
        "outputId": "0e6fdca2-6dd1-40fd-cbbf-0e3a0026921d"
      },
      "source": [
        "a = np.array([[7,8,9,10,11,12,13], [17,18,19,20,21,22,23]])\n",
        "\n",
        "b = a.copy()\n",
        "a[0][0]=99999\n",
        "print(a, b, sep=\"\\n\\n\")"
      ],
      "execution_count": null,
      "outputs": [
        {
          "output_type": "stream",
          "text": [
            "[[99999     8     9    10    11    12    13]\n",
            " [   17    18    19    20    21    22    23]]\n",
            "\n",
            "[[ 7  8  9 10 11 12 13]\n",
            " [17 18 19 20 21 22 23]]\n"
          ],
          "name": "stdout"
        }
      ]
    },
    {
      "cell_type": "markdown",
      "metadata": {
        "id": "TESI_hRRWsLS"
      },
      "source": [
        "# **Generating arrays**\n"
      ]
    },
    {
      "cell_type": "code",
      "metadata": {
        "id": "UwfamTwFWSQ2"
      },
      "source": [
        "\n",
        "# zeros\n",
        "a = np.zeros((2,3)) # size as tuple\n",
        "# [[0. 0. 0.]\n",
        "#  [0. 0. 0.]]\n",
        "\n",
        "# ones\n",
        "b = np.ones((2,3))\n",
        "# [[1. 1. 1.]\n",
        "#  [1. 1. 1.]]\n",
        "\n",
        "# specific value\n",
        "c = np.full((3,3),5.0)\n",
        "# [[5. 5. 5.]\n",
        "#  [5. 5. 5.]\n",
        "#  [5. 5. 5.]]\n",
        "\n",
        "# identity\n",
        "d = np.eye(3) #3x3\n",
        "# [[1. 0. 0.]\n",
        "#  [0. 1. 0.]\n",
        "#  [0. 0. 1.]]\n",
        "\n",
        "# arange\n",
        "e = np.arange(10)\n",
        "# [0 1 2 3 4 5 6 7 8 9]\n",
        "\n",
        "# linspace\n",
        "f = np.linspace(0, 10, 5)\n",
        "# [ 0.  2.5  5.  7.5  10. ]"
      ],
      "execution_count": null,
      "outputs": []
    },
    {
      "cell_type": "markdown",
      "metadata": {
        "id": "8BsCALUeY-aO"
      },
      "source": [
        "# **Random numbers**"
      ]
    },
    {
      "cell_type": "code",
      "metadata": {
        "colab": {
          "base_uri": "https://localhost:8080/"
        },
        "id": "0CJSbUrHW0Su",
        "outputId": "7455e8e5-367c-4164-90ed-699985f15255"
      },
      "source": [
        "a = np.random.random((3,2)) # uniform 0-1 distribution\n",
        "# [[0.06121857 0.10180167]\n",
        "#  [0.83321726 0.54906613]\n",
        "#  [0.94170273 0.19447411]]\n",
        "\n",
        "b = np.random.randn(3,2) # normal/Gaussian distribution, mean 0 and unit variance\n",
        "# no tuple as shape here! each dimension one argument\n",
        "# [[ 0.56759123 -0.65068333]\n",
        "#  [ 0.83445762 -0.36436185]\n",
        "#  [ 1.27150812 -0.32906051]]\n",
        "\n",
        "c = np.random.randn(10000)\n",
        "print(c.mean(), c.var(), c.std())\n",
        "# -0.0014 0.9933 0.9966\n",
        "\n",
        "d = np.random.randn(10, 3)\n",
        "print(d.mean()) # mean of whole array: -0.1076827228882305\n",
        "\n",
        "# random integer, low,high,size; high is exclusive\n",
        "e = np.random.randint(3,10,size=(3,3)) # if we only pass one parameter, then from 0-x\n",
        "print(e)\n",
        "# [[6 8 4]\n",
        "#  [3 6 3]\n",
        "#  [4 7 8]]\n",
        "\n",
        "# with integer is between 0 up to integer exclusive\n",
        "f = np.random.choice(7, size=10)\n",
        "# [2 0 4 5 1 3 4 0 0 6]\n",
        "\n",
        "# with an array it draws random values from this array\n",
        "g = np.random.choice([1,2,3,4], size=8)\n",
        "# [4 2 1 3 4 1 4 1]"
      ],
      "execution_count": null,
      "outputs": [
        {
          "output_type": "stream",
          "text": [
            "-0.007898355990622715 0.995277705843364 0.9976360588127134\n",
            "-0.1885411115601423\n",
            "[[4 4 5]\n",
            " [3 9 3]\n",
            " [9 5 7]]\n"
          ],
          "name": "stdout"
        }
      ]
    },
    {
      "cell_type": "markdown",
      "metadata": {
        "id": "yUf0CwW0aAQj"
      },
      "source": [
        "# **Solving linear equation with two variables**"
      ]
    },
    {
      "cell_type": "code",
      "metadata": {
        "colab": {
          "base_uri": "https://localhost:8080/"
        },
        "id": "f5FZ0WTtZBYU",
        "outputId": "5c3dc3dd-2161-42d0-ce34-f082e9886840"
      },
      "source": [
        "#     x1 + x2   = 2200\n",
        "# 1.5 x1 + 4 x2 = 5050\n",
        "# -> 2 equations and 2 unknowns\n",
        "A = np.array([[1, 1], [1.5, 4]])\n",
        "b = np.array([2200,5050])\n",
        "\n",
        "# Ax = b <=> x = A-1 b\n",
        "\n",
        "# But: inverse is slow and less accurate\n",
        "x = np.linalg.inv(A).dot(b) # not recommended\n",
        "print(x) # [1500.  700.]\n",
        "\n",
        "# instead use:\n",
        "x = np.linalg.solve(A,b) # good\n",
        "print(x) # [1500.  700.]"
      ],
      "execution_count": null,
      "outputs": [
        {
          "output_type": "stream",
          "text": [
            "[1500.  700.]\n",
            "[1500.  700.]\n"
          ],
          "name": "stdout"
        }
      ]
    },
    {
      "cell_type": "code",
      "metadata": {
        "id": "oFI6nyy-aFst"
      },
      "source": [
        ""
      ],
      "execution_count": null,
      "outputs": []
    }
  ]
}