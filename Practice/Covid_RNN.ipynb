{
  "nbformat": 4,
  "nbformat_minor": 0,
  "metadata": {
    "accelerator": "GPU",
    "colab": {
      "name": "Covid_RNN.ipynb",
      "provenance": [],
      "collapsed_sections": []
    },
    "kernelspec": {
      "display_name": "Python 3",
      "name": "python3"
    }
  },
  "cells": [
    {
      "cell_type": "code",
      "metadata": {
        "id": "yK-r9G2p3auN"
      },
      "source": [
        "import pandas as pd\n",
        "import numpy as np"
      ],
      "execution_count": null,
      "outputs": []
    },
    {
      "cell_type": "code",
      "metadata": {
        "colab": {
          "base_uri": "https://localhost:8080/",
          "height": 313
        },
        "id": "ak0SsF9q3gA9",
        "outputId": "a18d8dcc-87c8-426b-9456-b929530691de"
      },
      "source": [
        "#importing dataset for API\n",
        "\n",
        "data = pd.read_csv('https://api.covid19india.org/csv/latest/state_wise_daily.csv')\n",
        "\n",
        "data.tail()"
      ],
      "execution_count": null,
      "outputs": [
        {
          "output_type": "execute_result",
          "data": {
            "text/html": [
              "<div>\n",
              "<style scoped>\n",
              "    .dataframe tbody tr th:only-of-type {\n",
              "        vertical-align: middle;\n",
              "    }\n",
              "\n",
              "    .dataframe tbody tr th {\n",
              "        vertical-align: top;\n",
              "    }\n",
              "\n",
              "    .dataframe thead th {\n",
              "        text-align: right;\n",
              "    }\n",
              "</style>\n",
              "<table border=\"1\" class=\"dataframe\">\n",
              "  <thead>\n",
              "    <tr style=\"text-align: right;\">\n",
              "      <th></th>\n",
              "      <th>Date</th>\n",
              "      <th>Date_YMD</th>\n",
              "      <th>Status</th>\n",
              "      <th>TT</th>\n",
              "      <th>AN</th>\n",
              "      <th>AP</th>\n",
              "      <th>AR</th>\n",
              "      <th>AS</th>\n",
              "      <th>BR</th>\n",
              "      <th>CH</th>\n",
              "      <th>CT</th>\n",
              "      <th>DN</th>\n",
              "      <th>DD</th>\n",
              "      <th>DL</th>\n",
              "      <th>GA</th>\n",
              "      <th>GJ</th>\n",
              "      <th>HR</th>\n",
              "      <th>HP</th>\n",
              "      <th>JK</th>\n",
              "      <th>JH</th>\n",
              "      <th>KA</th>\n",
              "      <th>KL</th>\n",
              "      <th>LA</th>\n",
              "      <th>LD</th>\n",
              "      <th>MP</th>\n",
              "      <th>MH</th>\n",
              "      <th>MN</th>\n",
              "      <th>ML</th>\n",
              "      <th>MZ</th>\n",
              "      <th>NL</th>\n",
              "      <th>OR</th>\n",
              "      <th>PY</th>\n",
              "      <th>PB</th>\n",
              "      <th>RJ</th>\n",
              "      <th>SK</th>\n",
              "      <th>TN</th>\n",
              "      <th>TG</th>\n",
              "      <th>TR</th>\n",
              "      <th>UP</th>\n",
              "      <th>UT</th>\n",
              "      <th>WB</th>\n",
              "      <th>UN</th>\n",
              "    </tr>\n",
              "  </thead>\n",
              "  <tbody>\n",
              "    <tr>\n",
              "      <th>772</th>\n",
              "      <td>26-Nov-20</td>\n",
              "      <td>2020-11-26</td>\n",
              "      <td>Recovered</td>\n",
              "      <td>39723</td>\n",
              "      <td>12</td>\n",
              "      <td>1081</td>\n",
              "      <td>72</td>\n",
              "      <td>142</td>\n",
              "      <td>595</td>\n",
              "      <td>80</td>\n",
              "      <td>2454</td>\n",
              "      <td>3</td>\n",
              "      <td>0</td>\n",
              "      <td>4937</td>\n",
              "      <td>111</td>\n",
              "      <td>1302</td>\n",
              "      <td>2267</td>\n",
              "      <td>913</td>\n",
              "      <td>471</td>\n",
              "      <td>218</td>\n",
              "      <td>1067</td>\n",
              "      <td>5970</td>\n",
              "      <td>29</td>\n",
              "      <td>0</td>\n",
              "      <td>1199</td>\n",
              "      <td>4815</td>\n",
              "      <td>158</td>\n",
              "      <td>36</td>\n",
              "      <td>33</td>\n",
              "      <td>131</td>\n",
              "      <td>737</td>\n",
              "      <td>21</td>\n",
              "      <td>467</td>\n",
              "      <td>2179</td>\n",
              "      <td>20</td>\n",
              "      <td>1797</td>\n",
              "      <td>961</td>\n",
              "      <td>73</td>\n",
              "      <td>1518</td>\n",
              "      <td>317</td>\n",
              "      <td>3537</td>\n",
              "      <td>0</td>\n",
              "    </tr>\n",
              "    <tr>\n",
              "      <th>773</th>\n",
              "      <td>26-Nov-20</td>\n",
              "      <td>2020-11-26</td>\n",
              "      <td>Deceased</td>\n",
              "      <td>491</td>\n",
              "      <td>0</td>\n",
              "      <td>8</td>\n",
              "      <td>0</td>\n",
              "      <td>0</td>\n",
              "      <td>6</td>\n",
              "      <td>4</td>\n",
              "      <td>18</td>\n",
              "      <td>0</td>\n",
              "      <td>0</td>\n",
              "      <td>91</td>\n",
              "      <td>2</td>\n",
              "      <td>16</td>\n",
              "      <td>25</td>\n",
              "      <td>14</td>\n",
              "      <td>5</td>\n",
              "      <td>3</td>\n",
              "      <td>12</td>\n",
              "      <td>27</td>\n",
              "      <td>5</td>\n",
              "      <td>0</td>\n",
              "      <td>12</td>\n",
              "      <td>65</td>\n",
              "      <td>4</td>\n",
              "      <td>0</td>\n",
              "      <td>0</td>\n",
              "      <td>2</td>\n",
              "      <td>17</td>\n",
              "      <td>0</td>\n",
              "      <td>26</td>\n",
              "      <td>19</td>\n",
              "      <td>0</td>\n",
              "      <td>14</td>\n",
              "      <td>3</td>\n",
              "      <td>0</td>\n",
              "      <td>30</td>\n",
              "      <td>11</td>\n",
              "      <td>52</td>\n",
              "      <td>0</td>\n",
              "    </tr>\n",
              "    <tr>\n",
              "      <th>774</th>\n",
              "      <td>27-Nov-20</td>\n",
              "      <td>2020-11-27</td>\n",
              "      <td>Confirmed</td>\n",
              "      <td>41353</td>\n",
              "      <td>7</td>\n",
              "      <td>733</td>\n",
              "      <td>27</td>\n",
              "      <td>149</td>\n",
              "      <td>698</td>\n",
              "      <td>106</td>\n",
              "      <td>1879</td>\n",
              "      <td>2</td>\n",
              "      <td>0</td>\n",
              "      <td>5482</td>\n",
              "      <td>150</td>\n",
              "      <td>1607</td>\n",
              "      <td>2135</td>\n",
              "      <td>830</td>\n",
              "      <td>565</td>\n",
              "      <td>189</td>\n",
              "      <td>1526</td>\n",
              "      <td>3966</td>\n",
              "      <td>44</td>\n",
              "      <td>0</td>\n",
              "      <td>1645</td>\n",
              "      <td>6185</td>\n",
              "      <td>222</td>\n",
              "      <td>52</td>\n",
              "      <td>23</td>\n",
              "      <td>31</td>\n",
              "      <td>594</td>\n",
              "      <td>16</td>\n",
              "      <td>808</td>\n",
              "      <td>3093</td>\n",
              "      <td>37</td>\n",
              "      <td>1442</td>\n",
              "      <td>761</td>\n",
              "      <td>32</td>\n",
              "      <td>2298</td>\n",
              "      <td>530</td>\n",
              "      <td>3489</td>\n",
              "      <td>0</td>\n",
              "    </tr>\n",
              "    <tr>\n",
              "      <th>775</th>\n",
              "      <td>27-Nov-20</td>\n",
              "      <td>2020-11-27</td>\n",
              "      <td>Recovered</td>\n",
              "      <td>41177</td>\n",
              "      <td>17</td>\n",
              "      <td>1205</td>\n",
              "      <td>41</td>\n",
              "      <td>160</td>\n",
              "      <td>654</td>\n",
              "      <td>85</td>\n",
              "      <td>3985</td>\n",
              "      <td>8</td>\n",
              "      <td>0</td>\n",
              "      <td>5937</td>\n",
              "      <td>152</td>\n",
              "      <td>1388</td>\n",
              "      <td>2484</td>\n",
              "      <td>490</td>\n",
              "      <td>596</td>\n",
              "      <td>195</td>\n",
              "      <td>1451</td>\n",
              "      <td>4544</td>\n",
              "      <td>100</td>\n",
              "      <td>0</td>\n",
              "      <td>1152</td>\n",
              "      <td>4089</td>\n",
              "      <td>208</td>\n",
              "      <td>82</td>\n",
              "      <td>15</td>\n",
              "      <td>211</td>\n",
              "      <td>908</td>\n",
              "      <td>46</td>\n",
              "      <td>541</td>\n",
              "      <td>2194</td>\n",
              "      <td>40</td>\n",
              "      <td>1494</td>\n",
              "      <td>702</td>\n",
              "      <td>58</td>\n",
              "      <td>2058</td>\n",
              "      <td>391</td>\n",
              "      <td>3496</td>\n",
              "      <td>0</td>\n",
              "    </tr>\n",
              "    <tr>\n",
              "      <th>776</th>\n",
              "      <td>27-Nov-20</td>\n",
              "      <td>2020-11-27</td>\n",
              "      <td>Deceased</td>\n",
              "      <td>486</td>\n",
              "      <td>0</td>\n",
              "      <td>6</td>\n",
              "      <td>1</td>\n",
              "      <td>2</td>\n",
              "      <td>5</td>\n",
              "      <td>0</td>\n",
              "      <td>12</td>\n",
              "      <td>0</td>\n",
              "      <td>0</td>\n",
              "      <td>98</td>\n",
              "      <td>1</td>\n",
              "      <td>16</td>\n",
              "      <td>29</td>\n",
              "      <td>13</td>\n",
              "      <td>8</td>\n",
              "      <td>1</td>\n",
              "      <td>12</td>\n",
              "      <td>23</td>\n",
              "      <td>1</td>\n",
              "      <td>0</td>\n",
              "      <td>15</td>\n",
              "      <td>85</td>\n",
              "      <td>7</td>\n",
              "      <td>0</td>\n",
              "      <td>0</td>\n",
              "      <td>1</td>\n",
              "      <td>14</td>\n",
              "      <td>0</td>\n",
              "      <td>27</td>\n",
              "      <td>18</td>\n",
              "      <td>1</td>\n",
              "      <td>12</td>\n",
              "      <td>4</td>\n",
              "      <td>0</td>\n",
              "      <td>23</td>\n",
              "      <td>5</td>\n",
              "      <td>46</td>\n",
              "      <td>0</td>\n",
              "    </tr>\n",
              "  </tbody>\n",
              "</table>\n",
              "</div>"
            ],
            "text/plain": [
              "          Date    Date_YMD     Status     TT  AN  ...  TR    UP   UT    WB  UN\n",
              "772  26-Nov-20  2020-11-26  Recovered  39723  12  ...  73  1518  317  3537   0\n",
              "773  26-Nov-20  2020-11-26   Deceased    491   0  ...   0    30   11    52   0\n",
              "774  27-Nov-20  2020-11-27  Confirmed  41353   7  ...  32  2298  530  3489   0\n",
              "775  27-Nov-20  2020-11-27  Recovered  41177  17  ...  58  2058  391  3496   0\n",
              "776  27-Nov-20  2020-11-27   Deceased    486   0  ...   0    23    5    46   0\n",
              "\n",
              "[5 rows x 42 columns]"
            ]
          },
          "metadata": {
            "tags": []
          },
          "execution_count": 2
        }
      ]
    },
    {
      "cell_type": "code",
      "metadata": {
        "colab": {
          "base_uri": "https://localhost:8080/",
          "height": 206
        },
        "id": "C88nGhX5-kD5",
        "outputId": "614ae914-a3c7-4e42-855d-a9a7e946d419"
      },
      "source": [
        "#Since we are predicting total cases ('TT') column we don't need state data ,  hence droping out state data\n",
        "\n",
        "cols = ['Date_YMD','Date','UN','AN','AP',\t'AR',\t'AS',\t'BR',\t'CH',\t'CT',\t'DD',\t'DL',\t'DN',\t'GA',\t'GJ',\t'HP',\t'HR',\t'JH', 'JK',\t'KA',\t'KL',\t'LA',\t'LD',\t'MH',\t'ML',\t'MN',\t'MP',\t'MZ',\t'NL',\t'OR',\t'PB',\t'PY',\t'RJ',\t'SK',\t'TG',\t'TN',\t'TR',\t'UP',\t'UT',\t'WB']\n",
        "data.drop(cols, axis=1, inplace=True)\n",
        "data = data.set_index('Status')\n",
        "data.drop(['Recovered','Deceased'],inplace=True)\n",
        "data = data.reset_index()\n",
        "data.drop([\"Status\"],axis=1,inplace= True)\n",
        "data.tail()"
      ],
      "execution_count": null,
      "outputs": [
        {
          "output_type": "execute_result",
          "data": {
            "text/html": [
              "<div>\n",
              "<style scoped>\n",
              "    .dataframe tbody tr th:only-of-type {\n",
              "        vertical-align: middle;\n",
              "    }\n",
              "\n",
              "    .dataframe tbody tr th {\n",
              "        vertical-align: top;\n",
              "    }\n",
              "\n",
              "    .dataframe thead th {\n",
              "        text-align: right;\n",
              "    }\n",
              "</style>\n",
              "<table border=\"1\" class=\"dataframe\">\n",
              "  <thead>\n",
              "    <tr style=\"text-align: right;\">\n",
              "      <th></th>\n",
              "      <th>TT</th>\n",
              "    </tr>\n",
              "  </thead>\n",
              "  <tbody>\n",
              "    <tr>\n",
              "      <th>251</th>\n",
              "      <td>46283</td>\n",
              "    </tr>\n",
              "    <tr>\n",
              "      <th>252</th>\n",
              "      <td>45301</td>\n",
              "    </tr>\n",
              "    <tr>\n",
              "      <th>253</th>\n",
              "      <td>44404</td>\n",
              "    </tr>\n",
              "    <tr>\n",
              "      <th>254</th>\n",
              "      <td>37441</td>\n",
              "    </tr>\n",
              "    <tr>\n",
              "      <th>255</th>\n",
              "      <td>44245</td>\n",
              "    </tr>\n",
              "  </tbody>\n",
              "</table>\n",
              "</div>"
            ],
            "text/plain": [
              "        TT\n",
              "251  46283\n",
              "252  45301\n",
              "253  44404\n",
              "254  37441\n",
              "255  44245"
            ]
          },
          "metadata": {
            "tags": []
          },
          "execution_count": 4
        }
      ]
    },
    {
      "cell_type": "code",
      "metadata": {
        "colab": {
          "base_uri": "https://localhost:8080/",
          "height": 283
        },
        "id": "AEsdOkeH-kBI",
        "outputId": "a1357034-0f06-478e-8cc3-fd3318cef0d6"
      },
      "source": [
        "data.plot()   "
      ],
      "execution_count": null,
      "outputs": [
        {
          "output_type": "execute_result",
          "data": {
            "text/plain": [
              "<matplotlib.axes._subplots.AxesSubplot at 0x7f2a692f9b38>"
            ]
          },
          "metadata": {
            "tags": []
          },
          "execution_count": 5
        },
        {
          "output_type": "display_data",
          "data": {
            "image/png": "[encoded data removed]",
            "text/plain": [
              "<Figure size 432x288 with 1 Axes>"
            ]
          },
          "metadata": {
            "tags": []
          }
        }
      ]
    },
    {
      "cell_type": "code",
      "metadata": {
        "colab": {
          "base_uri": "https://localhost:8080/"
        },
        "id": "WoKG5NU0-j-V",
        "outputId": "a912926e-96e0-4573-8f97-4d00e27d2fea"
      },
      "source": [
        "data.shape"
      ],
      "execution_count": null,
      "outputs": [
        {
          "output_type": "execute_result",
          "data": {
            "text/plain": [
              "(256, 1)"
            ]
          },
          "metadata": {
            "tags": []
          },
          "execution_count": 6
        }
      ]
    },
    {
      "cell_type": "code",
      "metadata": {
        "id": "i605O6xWBjUF"
      },
      "source": [
        "# Feature Scaling\n",
        "from sklearn.preprocessing import MinMaxScaler\n",
        "sc = MinMaxScaler(feature_range = (0, 1))\n",
        "data_set_scaled = sc.fit_transform(data)"
      ],
      "execution_count": null,
      "outputs": []
    },
    {
      "cell_type": "code",
      "metadata": {
        "id": "gMKs-JXfCgOa"
      },
      "source": [
        "# Creating a data structure with 10 timesteps and 1 output\n",
        "timestamp=10"
      ],
      "execution_count": null,
      "outputs": []
    },
    {
      "cell_type": "code",
      "metadata": {
        "colab": {
          "base_uri": "https://localhost:8080/"
        },
        "id": "TcJNFJ45A7qT",
        "outputId": "088eaf22-116d-4d2a-b6e7-2564d9df7928"
      },
      "source": [
        "train=data_set_scaled[:200]\n",
        "test=data_set_scaled[200-timestamp:]\n",
        "print(train.shape, test.shape)"
      ],
      "execution_count": null,
      "outputs": [
        {
          "output_type": "stream",
          "text": [
            "(200, 1) (66, 1)\n"
          ],
          "name": "stdout"
        }
      ]
    },
    {
      "cell_type": "code",
      "metadata": {
        "colab": {
          "base_uri": "https://localhost:8080/"
        },
        "id": "OJItE4WxA7km",
        "outputId": "3e99b36e-5a48-4826-bf8a-c47f241b5ac9"
      },
      "source": [
        "x_train = []\n",
        "y_train = []\n",
        "for i in range(timestamp, len(train)):\n",
        "    x_train.append(train[i-timestamp:i, 0])\n",
        "    y_train.append(train[i, 0])\n",
        "x_train, y_train = np.array(x_train), np.array(y_train)\n",
        "print(x_train.shape, y_train.shape)"
      ],
      "execution_count": null,
      "outputs": [
        {
          "output_type": "stream",
          "text": [
            "(190, 10) (190,)\n"
          ],
          "name": "stdout"
        }
      ]
    },
    {
      "cell_type": "code",
      "metadata": {
        "colab": {
          "base_uri": "https://localhost:8080/"
        },
        "id": "3D9ubxO1A7iX",
        "outputId": "09b09c4d-1bf9-48eb-fcd8-1f3cdea5b52b"
      },
      "source": [
        "x_test = []\n",
        "y_test = []\n",
        "for i in range(timestamp, len(test)):\n",
        "    x_test.append(test[i-timestamp:i, 0])\n",
        "    y_test.append(test[i, 0])\n",
        "x_test, y_test = np.array(x_test), np.array(y_test)\n",
        "print(x_test.shape, y_test.shape)"
      ],
      "execution_count": null,
      "outputs": [
        {
          "output_type": "stream",
          "text": [
            "(56, 10) (56,)\n"
          ],
          "name": "stdout"
        }
      ]
    },
    {
      "cell_type": "code",
      "metadata": {
        "colab": {
          "base_uri": "https://localhost:8080/"
        },
        "id": "8wG54fUSDWtv",
        "outputId": "1d4c8a36-c788-4ce3-9a88-5d544de973a4"
      },
      "source": [
        "x_train[0]"
      ],
      "execution_count": null,
      "outputs": [
        {
          "output_type": "execute_result",
          "data": {
            "text/plain": [
              "array([7.15387996e-04, 1.63517256e-04, 4.08793140e-05, 0.00000000e+00,\n",
              "       2.65715541e-04, 1.63517256e-04, 4.80331940e-04, 6.84728510e-04,\n",
              "       5.72310397e-04, 9.30004395e-04])"
            ]
          },
          "metadata": {
            "tags": []
          },
          "execution_count": 12
        }
      ]
    },
    {
      "cell_type": "code",
      "metadata": {
        "id": "3ZAgyXib4rDM"
      },
      "source": [
        "# Reshaping\n",
        "x_train = np.reshape(x_train, (x_train.shape[0], x_train.shape[1], 1))\n",
        "x_test = np.reshape(x_test, (x_test.shape[0], x_test.shape[1], 1))\n",
        "\n"
      ],
      "execution_count": null,
      "outputs": []
    },
    {
      "cell_type": "code",
      "metadata": {
        "colab": {
          "base_uri": "https://localhost:8080/"
        },
        "id": "C2VAynJQ7-hs",
        "outputId": "ee110529-4b42-48a4-d32d-acaab79a3dfb"
      },
      "source": [
        "print(x_train.shape,x_test.shape)"
      ],
      "execution_count": null,
      "outputs": [
        {
          "output_type": "stream",
          "text": [
            "(190, 10, 1) (56, 10, 1)\n"
          ],
          "name": "stdout"
        }
      ]
    },
    {
      "cell_type": "code",
      "metadata": {
        "id": "NPvJ2O4p5fVf"
      },
      "source": [
        "# Importing the Keras libraries and packages\n",
        "from keras.models import Sequential\n",
        "from keras.layers import Dense\n",
        "from keras.layers import LSTM\n",
        "from keras.layers import Dropout"
      ],
      "execution_count": null,
      "outputs": []
    },
    {
      "cell_type": "code",
      "metadata": {
        "id": "eLeaf8lO5gyE"
      },
      "source": [
        "regressor = Sequential()\n",
        "regressor.add(LSTM(units = 50, return_sequences = True, input_shape = (x_train.shape[1], 1)))\n",
        "regressor.add(Dropout(0.2))\n",
        "regressor.add(LSTM(units = 50, return_sequences = True))\n",
        "regressor.add(Dropout(0.2))\n",
        "regressor.add(LSTM(units = 50, return_sequences = True))\n",
        "regressor.add(Dropout(0.2))\n",
        "regressor.add(LSTM(units = 50))\n",
        "regressor.add(Dropout(0.2))\n",
        "regressor.add(Dense(units = 1))"
      ],
      "execution_count": null,
      "outputs": []
    },
    {
      "cell_type": "code",
      "metadata": {
        "colab": {
          "base_uri": "https://localhost:8080/"
        },
        "id": "5INNH3rj5ieI",
        "outputId": "b871331f-35f0-4d10-85b5-98fcd1272a1c"
      },
      "source": [
        "regressor.summary()"
      ],
      "execution_count": null,
      "outputs": [
        {
          "output_type": "stream",
          "text": [
            "Model: \"sequential\"\n",
            "_________________________________________________________________\n",
            "Layer (type)                 Output Shape              Param #   \n",
            "=================================================================\n",
            "lstm (LSTM)                  (None, 10, 50)            10400     \n",
            "_________________________________________________________________\n",
            "dropout (Dropout)            (None, 10, 50)            0         \n",
            "_________________________________________________________________\n",
            "lstm_1 (LSTM)                (None, 10, 50)            20200     \n",
            "_________________________________________________________________\n",
            "dropout_1 (Dropout)          (None, 10, 50)            0         \n",
            "_________________________________________________________________\n",
            "lstm_2 (LSTM)                (None, 10, 50)            20200     \n",
            "_________________________________________________________________\n",
            "dropout_2 (Dropout)          (None, 10, 50)            0         \n",
            "_________________________________________________________________\n",
            "lstm_3 (LSTM)                (None, 50)                20200     \n",
            "_________________________________________________________________\n",
            "dropout_3 (Dropout)          (None, 50)                0         \n",
            "_________________________________________________________________\n",
            "dense (Dense)                (None, 1)                 51        \n",
            "=================================================================\n",
            "Total params: 71,051\n",
            "Trainable params: 71,051\n",
            "Non-trainable params: 0\n",
            "_________________________________________________________________\n"
          ],
          "name": "stdout"
        }
      ]
    },
    {
      "cell_type": "code",
      "metadata": {
        "id": "QrpghqIG5j6D"
      },
      "source": [
        "regressor.compile(optimizer = 'adam', loss = 'mean_squared_error')"
      ],
      "execution_count": null,
      "outputs": []
    },
    {
      "cell_type": "code",
      "metadata": {
        "colab": {
          "base_uri": "https://localhost:8080/"
        },
        "id": "CK6j7Tz55lpq",
        "outputId": "35d7326a-ac11-4f28-fb1f-067363f62681"
      },
      "source": [
        "regressor.fit(x_train, y_train, epochs = 54, batch_size = 32)"
      ],
      "execution_count": null,
      "outputs": [
        {
          "output_type": "stream",
          "text": [
            "Epoch 1/54\n",
            "6/6 [==============================] - 0s 9ms/step - loss: 0.1823\n",
            "Epoch 2/54\n",
            "6/6 [==============================] - 0s 8ms/step - loss: 0.0676\n",
            "Epoch 3/54\n",
            "6/6 [==============================] - 0s 8ms/step - loss: 0.0455\n",
            "Epoch 4/54\n",
            "6/6 [==============================] - 0s 7ms/step - loss: 0.0216\n",
            "Epoch 5/54\n",
            "6/6 [==============================] - 0s 7ms/step - loss: 0.0091\n",
            "Epoch 6/54\n",
            "6/6 [==============================] - 0s 6ms/step - loss: 0.0066\n",
            "Epoch 7/54\n",
            "6/6 [==============================] - 0s 7ms/step - loss: 0.0085\n",
            "Epoch 8/54\n",
            "6/6 [==============================] - 0s 7ms/step - loss: 0.0060\n",
            "Epoch 9/54\n",
            "6/6 [==============================] - 0s 7ms/step - loss: 0.0050\n",
            "Epoch 10/54\n",
            "6/6 [==============================] - 0s 7ms/step - loss: 0.0061\n",
            "Epoch 11/54\n",
            "6/6 [==============================] - 0s 7ms/step - loss: 0.0057\n",
            "Epoch 12/54\n",
            "6/6 [==============================] - 0s 6ms/step - loss: 0.0055\n",
            "Epoch 13/54\n",
            "6/6 [==============================] - 0s 7ms/step - loss: 0.0036\n",
            "Epoch 14/54\n",
            "6/6 [==============================] - 0s 7ms/step - loss: 0.0064\n",
            "Epoch 15/54\n",
            "6/6 [==============================] - 0s 7ms/step - loss: 0.0040\n",
            "Epoch 16/54\n",
            "6/6 [==============================] - 0s 6ms/step - loss: 0.0047\n",
            "Epoch 17/54\n",
            "6/6 [==============================] - 0s 6ms/step - loss: 0.0039\n",
            "Epoch 18/54\n",
            "6/6 [==============================] - 0s 7ms/step - loss: 0.0050\n",
            "Epoch 19/54\n",
            "6/6 [==============================] - 0s 6ms/step - loss: 0.0050\n",
            "Epoch 20/54\n",
            "6/6 [==============================] - 0s 7ms/step - loss: 0.0058\n",
            "Epoch 21/54\n",
            "6/6 [==============================] - 0s 6ms/step - loss: 0.0028\n",
            "Epoch 22/54\n",
            "6/6 [==============================] - 0s 7ms/step - loss: 0.0052\n",
            "Epoch 23/54\n",
            "6/6 [==============================] - 0s 7ms/step - loss: 0.0037\n",
            "Epoch 24/54\n",
            "6/6 [==============================] - 0s 7ms/step - loss: 0.0037\n",
            "Epoch 25/54\n",
            "6/6 [==============================] - 0s 7ms/step - loss: 0.0037\n",
            "Epoch 26/54\n",
            "6/6 [==============================] - 0s 7ms/step - loss: 0.0048\n",
            "Epoch 27/54\n",
            "6/6 [==============================] - 0s 7ms/step - loss: 0.0038\n",
            "Epoch 28/54\n",
            "6/6 [==============================] - 0s 7ms/step - loss: 0.0049\n",
            "Epoch 29/54\n",
            "6/6 [==============================] - 0s 7ms/step - loss: 0.0035\n",
            "Epoch 30/54\n",
            "6/6 [==============================] - 0s 6ms/step - loss: 0.0043\n",
            "Epoch 31/54\n",
            "6/6 [==============================] - 0s 6ms/step - loss: 0.0048\n",
            "Epoch 32/54\n",
            "6/6 [==============================] - 0s 7ms/step - loss: 0.0039\n",
            "Epoch 33/54\n",
            "6/6 [==============================] - 0s 7ms/step - loss: 0.0043\n",
            "Epoch 34/54\n",
            "6/6 [==============================] - 0s 6ms/step - loss: 0.0049\n",
            "Epoch 35/54\n",
            "6/6 [==============================] - 0s 7ms/step - loss: 0.0036\n",
            "Epoch 36/54\n",
            "6/6 [==============================] - 0s 7ms/step - loss: 0.0038\n",
            "Epoch 37/54\n",
            "6/6 [==============================] - 0s 7ms/step - loss: 0.0028\n",
            "Epoch 38/54\n",
            "6/6 [==============================] - 0s 7ms/step - loss: 0.0038\n",
            "Epoch 39/54\n",
            "6/6 [==============================] - 0s 7ms/step - loss: 0.0045\n",
            "Epoch 40/54\n",
            "6/6 [==============================] - 0s 8ms/step - loss: 0.0041\n",
            "Epoch 41/54\n",
            "6/6 [==============================] - 0s 8ms/step - loss: 0.0043\n",
            "Epoch 42/54\n",
            "6/6 [==============================] - 0s 8ms/step - loss: 0.0056\n",
            "Epoch 43/54\n",
            "6/6 [==============================] - 0s 8ms/step - loss: 0.0036\n",
            "Epoch 44/54\n",
            "6/6 [==============================] - 0s 9ms/step - loss: 0.0038\n",
            "Epoch 45/54\n",
            "6/6 [==============================] - 0s 7ms/step - loss: 0.0043\n",
            "Epoch 46/54\n",
            "6/6 [==============================] - 0s 7ms/step - loss: 0.0037\n",
            "Epoch 47/54\n",
            "6/6 [==============================] - 0s 6ms/step - loss: 0.0047\n",
            "Epoch 48/54\n",
            "6/6 [==============================] - 0s 6ms/step - loss: 0.0042\n",
            "Epoch 49/54\n",
            "6/6 [==============================] - 0s 6ms/step - loss: 0.0041\n",
            "Epoch 50/54\n",
            "6/6 [==============================] - 0s 7ms/step - loss: 0.0039\n",
            "Epoch 51/54\n",
            "6/6 [==============================] - 0s 7ms/step - loss: 0.0039\n",
            "Epoch 52/54\n",
            "6/6 [==============================] - 0s 7ms/step - loss: 0.0039\n",
            "Epoch 53/54\n",
            "6/6 [==============================] - 0s 7ms/step - loss: 0.0041\n",
            "Epoch 54/54\n",
            "6/6 [==============================] - 0s 6ms/step - loss: 0.0044\n"
          ],
          "name": "stdout"
        },
        {
          "output_type": "execute_result",
          "data": {
            "text/plain": [
              "<tensorflow.python.keras.callbacks.History at 0x7f29c2bee748>"
            ]
          },
          "metadata": {
            "tags": []
          },
          "execution_count": 19
        }
      ]
    },
    {
      "cell_type": "code",
      "metadata": {
        "id": "yFG1ghXG7v0N"
      },
      "source": [
        "\n",
        "predictions = regressor.predict(x_test)\n",
        "predictions = sc.inverse_transform(predictions)"
      ],
      "execution_count": null,
      "outputs": []
    },
    {
      "cell_type": "code",
      "metadata": {
        "colab": {
          "base_uri": "https://localhost:8080/",
          "height": 295
        },
        "id": "S3OgTYhf7bwf",
        "outputId": "d188541f-4b5d-4193-c696-5aff056da65c"
      },
      "source": [
        "# Visualising the results\n",
        "import matplotlib.pyplot as plt\n",
        "plt.plot(list(data[\"TT\"][200:]), color = 'red', label = 'Real Total No Of Cases')\n",
        "plt.plot(predictions, color = 'blue', label = 'Predicted Total No Of Cases')\n",
        "plt.title('Covid-19 Total No Of Cases in India')\n",
        "plt.xlabel('Time')\n",
        "plt.ylabel('Total No Of Cases')\n",
        "plt.legend()\n",
        "plt.show()"
      ],
      "execution_count": null,
      "outputs": [
        {
          "output_type": "display_data",
          "data": {
            "image/png": "[encoded data removed]",
            "text/plain": [
              "<Figure size 432x288 with 1 Axes>"
            ]
          },
          "metadata": {
            "tags": []
          }
        }
      ]
    },
    {
      "cell_type": "markdown",
      "metadata": {
        "id": "ZTHz8ZT_HvTZ"
      },
      "source": [
        "# **Analysis with state data**"
      ]
    },
    {
      "cell_type": "code",
      "metadata": {
        "id": "KeFDt1IVIpFn"
      },
      "source": [
        "import pandas as pd"
      ],
      "execution_count": null,
      "outputs": []
    },
    {
      "cell_type": "code",
      "metadata": {
        "id": "HNJRE3Q2Um5N"
      },
      "source": [
        "data = pd.read_csv('https://api.covid19india.org/csv/latest/state_wise_daily.csv')\n",
        "states=list(data.columns)[3:]\n",
        "statuses=[\"Recovered\", \"Decreased\", \"Confirm\"]"
      ],
      "execution_count": null,
      "outputs": []
    },
    {
      "cell_type": "markdown",
      "metadata": {
        "id": "ZmfxpwhcIFmh"
      },
      "source": [
        "**Select the state for which you want to see the data.**"
      ]
    },
    {
      "cell_type": "code",
      "metadata": {
        "id": "mAnHeRKfUm2f"
      },
      "source": [
        "state = 'TT' #@param ['TT','AN','AP','AR','AS','BR','CH','CT','DN','DD','DL','GA','GJ','HR','HP','JK','JH','KA','KL','LA','LD','MP','MH','MN','ML','MZ','NL','OR','PY','PB','RJ','SK','TN','TG','TR','UP','UT','WB','UN'] {allow-input: false}\n"
      ],
      "execution_count": null,
      "outputs": []
    },
    {
      "cell_type": "code",
      "metadata": {
        "id": "LocOL-8vZoNA"
      },
      "source": [
        "cols = ['TT','Date_YMD','Date','UN','AN','AP',\t'AR',\t'AS',\t'BR',\t'CH',\t'CT',\t'DD',\t'DL',\t'DN',\t'GA',\t'GJ',\t'HP',\t'HR',\t'JH', 'JK',\t'KA',\t'KL',\t'LA',\t'LD',\t'MH',\t'ML',\t'MN',\t'MP',\t'MZ',\t'NL',\t'OR',\t'PB',\t'PY',\t'RJ',\t'SK',\t'TG',\t'TN',\t'TR',\t'UP',\t'UT',\t'WB']\n",
        "cols.remove(state)"
      ],
      "execution_count": null,
      "outputs": []
    },
    {
      "cell_type": "code",
      "metadata": {
        "id": "0A5TGCuOU5hC"
      },
      "source": [
        "\n",
        "data = pd.read_csv('https://api.covid19india.org/csv/latest/state_wise_daily.csv')\n",
        "data_confirm=data.drop(cols, axis=1)\n",
        "data_confirm = data_confirm.set_index('Status')\n",
        "data_confirm.drop(['Recovered','Deceased'],inplace=True)\n",
        "data_confirm = data_confirm.reset_index()\n",
        "data_confirm.drop([\"Status\"],axis=1,inplace= True)\n",
        "# data_confirm.tail()\n",
        "\n",
        "data = pd.read_csv('https://api.covid19india.org/csv/latest/state_wise_daily.csv')\n",
        "data_recovered=data.drop(cols, axis=1)\n",
        "data_recovered = data_recovered.set_index('Status')\n",
        "data_recovered.drop(['Confirmed','Deceased'],inplace=True)\n",
        "data_recovered = data_recovered.reset_index()\n",
        "data_recovered.drop([\"Status\"],axis=1,inplace= True)\n",
        "# data_recovered.tail()\n",
        "\n",
        "data = pd.read_csv('https://api.covid19india.org/csv/latest/state_wise_daily.csv')\n",
        "data_decrease=data.drop(cols, axis=1)\n",
        "data_decrease = data_decrease.set_index('Status')\n",
        "data_decrease.drop(['Recovered','Confirmed'],inplace=True)\n",
        "data_decrease = data_decrease.reset_index()\n",
        "data_decrease.drop([\"Status\"],axis=1,inplace= True)\n",
        "# data_decrease.tail()"
      ],
      "execution_count": null,
      "outputs": []
    },
    {
      "cell_type": "code",
      "metadata": {
        "colab": {
          "base_uri": "https://localhost:8080/",
          "height": 295
        },
        "id": "NAKhmA76ajFw",
        "outputId": "46fbfb6a-ac1a-4fdf-a7fb-38048bfe57bf"
      },
      "source": [
        "# Visualising the results\n",
        "import matplotlib.pyplot as plt\n",
        "plt.plot(data_decrease, color = 'red', label = 'Decreased Cases')\n",
        "plt.plot(data_recovered, color = 'green', label = 'Recovered Cases')\n",
        "plt.plot(data_confirm, color = 'blue', label = 'Confirmed No Of Cases')\n",
        "plt.title('Covid-19 Total No Of Cases in India')\n",
        "plt.xlabel('Time')\n",
        "plt.ylabel('Total No Of Cases')\n",
        "plt.legend()\n",
        "plt.show()"
      ],
      "execution_count": null,
      "outputs": [
        {
          "output_type": "display_data",
          "data": {
            "image/png": "[encoded data removed]",
            "text/plain": [
              "<Figure size 432x288 with 1 Axes>"
            ]
          },
          "metadata": {
            "tags": []
          }
        }
      ]
    },
    {
      "cell_type": "code",
      "metadata": {
        "colab": {
          "base_uri": "https://localhost:8080/",
          "height": 173
        },
        "id": "s8GWMpAra730",
        "outputId": "9214b080-38fb-45b2-a608-9245f7eed555"
      },
      "source": [
        "120+5.2*1980+3.5(1980**2)\r\n"
      ],
      "execution_count": null,
      "outputs": [
        {
          "output_type": "error",
          "ename": "TypeError",
          "evalue": "ignored",
          "traceback": [
            "\u001b[0;31m---------------------------------------------------------------------------\u001b[0m",
            "\u001b[0;31mTypeError\u001b[0m                                 Traceback (most recent call last)",
            "\u001b[0;32m<ipython-input-8-831af6fba3b7>\u001b[0m in \u001b[0;36m<module>\u001b[0;34m()\u001b[0m\n\u001b[0;32m----> 1\u001b[0;31m \u001b[0;36m120\u001b[0m\u001b[0;34m+\u001b[0m\u001b[0;36m5.2\u001b[0m\u001b[0;34m*\u001b[0m\u001b[0;36m1980\u001b[0m\u001b[0;34m+\u001b[0m\u001b[0;36m3.5\u001b[0m\u001b[0;34m(\u001b[0m\u001b[0;36m1980\u001b[0m\u001b[0;34m**\u001b[0m\u001b[0;36m2\u001b[0m\u001b[0;34m)\u001b[0m\u001b[0;34m\u001b[0m\u001b[0;34m\u001b[0m\u001b[0m\n\u001b[0m",
            "\u001b[0;31mTypeError\u001b[0m: 'float' object is not callable"
          ]
        }
      ]
    },
    {
      "cell_type": "code",
      "metadata": {
        "id": "gkzijNIXJeCo"
      },
      "source": [
        "x = lambda a : 114+7.5*a+3.5*(a**2)"
      ],
      "execution_count": null,
      "outputs": []
    },
    {
      "cell_type": "code",
      "metadata": {
        "colab": {
          "base_uri": "https://localhost:8080/"
        },
        "id": "EnuOjPraKxCY",
        "outputId": "2e95d1a7-3f68-4030-c201-b41d238a283c"
      },
      "source": [
        "x(1984)"
      ],
      "execution_count": null,
      "outputs": [
        {
          "output_type": "execute_result",
          "data": {
            "text/plain": [
              "13791890.0"
            ]
          },
          "metadata": {
            "tags": []
          },
          "execution_count": 24
        }
      ]
    },
    {
      "cell_type": "code",
      "metadata": {
        "id": "EA-32FDHKy-A"
      },
      "source": [
        "l=[14, 16, 8 ,12, 11, 9, 14]"
      ],
      "execution_count": null,
      "outputs": []
    },
    {
      "cell_type": "code",
      "metadata": {
        "colab": {
          "base_uri": "https://localhost:8080/"
        },
        "id": "kKio8IZvOWny",
        "outputId": "e9504300-c739-4655-f779-f60b4d53d00c"
      },
      "source": [
        "avg=sum(l)/7\r\n",
        "avg"
      ],
      "execution_count": null,
      "outputs": [
        {
          "output_type": "execute_result",
          "data": {
            "text/plain": [
              "12.0"
            ]
          },
          "metadata": {
            "tags": []
          },
          "execution_count": 36
        }
      ]
    },
    {
      "cell_type": "code",
      "metadata": {
        "colab": {
          "base_uri": "https://localhost:8080/"
        },
        "id": "6xLeqIuAOeuX",
        "outputId": "8f053a15-55e5-4378-d951-5acbcacdaff0"
      },
      "source": [
        "for i in range(len(l)):\r\n",
        "  l[i]=(l[i]-avg)**2\r\n",
        "\r\n",
        "l"
      ],
      "execution_count": null,
      "outputs": [
        {
          "output_type": "execute_result",
          "data": {
            "text/plain": [
              "[4.0, 16.0, 16.0, 0.0, 1.0, 9.0, 4.0]"
            ]
          },
          "metadata": {
            "tags": []
          },
          "execution_count": 37
        }
      ]
    },
    {
      "cell_type": "code",
      "metadata": {
        "colab": {
          "base_uri": "https://localhost:8080/"
        },
        "id": "3qP6yKa9OpCI",
        "outputId": "3e41489c-17fb-42b9-9ac4-986f123b6c51"
      },
      "source": [
        "sum(l)/avg"
      ],
      "execution_count": null,
      "outputs": [
        {
          "output_type": "execute_result",
          "data": {
            "text/plain": [
              "4.166666666666667"
            ]
          },
          "metadata": {
            "tags": []
          },
          "execution_count": 38
        }
      ]
    },
    {
      "cell_type": "code",
      "metadata": {
        "id": "1NyRn_26PQ9R"
      },
      "source": [
        ""
      ],
      "execution_count": null,
      "outputs": []
    }
  ]
}